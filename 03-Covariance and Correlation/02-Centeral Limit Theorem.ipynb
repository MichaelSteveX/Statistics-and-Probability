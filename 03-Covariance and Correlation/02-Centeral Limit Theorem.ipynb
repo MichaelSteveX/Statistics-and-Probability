{
 "cells": [
  {
   "cell_type": "markdown",
   "id": "86e893c0-57c8-47cf-bc79-56fa6c3657e1",
   "metadata": {},
   "source": [
    "# Central Limit Theorem "
   ]
  },
  {
   "cell_type": "code",
   "execution_count": 1,
   "id": "149c05c4-53f9-428b-92bd-725758556b20",
   "metadata": {},
   "outputs": [],
   "source": [
    " # load the data set \n",
    "import numpy as np\n",
    "import pandas as pd\n",
    "import matplotlib.pyplot as plt\n",
    "import seaborn as sns\n",
    "import warnings \n",
    "warnings.filterwarnings('ignore')"
   ]
  },
  {
   "cell_type": "code",
   "execution_count": 2,
   "id": "68c31b1f-a639-492f-a685-d1c4944ddb90",
   "metadata": {},
   "outputs": [
    {
     "data": {
      "text/html": [
       "<div>\n",
       "<style scoped>\n",
       "    .dataframe tbody tr th:only-of-type {\n",
       "        vertical-align: middle;\n",
       "    }\n",
       "\n",
       "    .dataframe tbody tr th {\n",
       "        vertical-align: top;\n",
       "    }\n",
       "\n",
       "    .dataframe thead th {\n",
       "        text-align: right;\n",
       "    }\n",
       "</style>\n",
       "<table border=\"1\" class=\"dataframe\">\n",
       "  <thead>\n",
       "    <tr style=\"text-align: right;\">\n",
       "      <th></th>\n",
       "      <th>pop_data</th>\n",
       "    </tr>\n",
       "  </thead>\n",
       "  <tbody>\n",
       "    <tr>\n",
       "      <th>0</th>\n",
       "      <td>26</td>\n",
       "    </tr>\n",
       "    <tr>\n",
       "      <th>1</th>\n",
       "      <td>81</td>\n",
       "    </tr>\n",
       "    <tr>\n",
       "      <th>2</th>\n",
       "      <td>75</td>\n",
       "    </tr>\n",
       "    <tr>\n",
       "      <th>3</th>\n",
       "      <td>24</td>\n",
       "    </tr>\n",
       "    <tr>\n",
       "      <th>4</th>\n",
       "      <td>66</td>\n",
       "    </tr>\n",
       "    <tr>\n",
       "      <th>...</th>\n",
       "      <td>...</td>\n",
       "    </tr>\n",
       "    <tr>\n",
       "      <th>9995</th>\n",
       "      <td>31</td>\n",
       "    </tr>\n",
       "    <tr>\n",
       "      <th>9996</th>\n",
       "      <td>78</td>\n",
       "    </tr>\n",
       "    <tr>\n",
       "      <th>9997</th>\n",
       "      <td>97</td>\n",
       "    </tr>\n",
       "    <tr>\n",
       "      <th>9998</th>\n",
       "      <td>58</td>\n",
       "    </tr>\n",
       "    <tr>\n",
       "      <th>9999</th>\n",
       "      <td>16</td>\n",
       "    </tr>\n",
       "  </tbody>\n",
       "</table>\n",
       "<p>10000 rows × 1 columns</p>\n",
       "</div>"
      ],
      "text/plain": [
       "      pop_data\n",
       "0           26\n",
       "1           81\n",
       "2           75\n",
       "3           24\n",
       "4           66\n",
       "...        ...\n",
       "9995        31\n",
       "9996        78\n",
       "9997        97\n",
       "9998        58\n",
       "9999        16\n",
       "\n",
       "[10000 rows x 1 columns]"
      ]
     },
     "execution_count": 2,
     "metadata": {},
     "output_type": "execute_result"
    }
   ],
   "source": [
    "# Generate random data with the help of Numpy \n",
    "pop_data = [np.random.randint(10,100)for i in range(10000)]\n",
    "pop_Table = pd.DataFrame({\"pop_data\":pop_data})               # here we use pandas to create a data frame \n",
    "pop_Table"
   ]
  },
  {
   "cell_type": "markdown",
   "id": "05374eae-5635-41f6-b6a1-f1c8ed4caff6",
   "metadata": {},
   "source": [
    " ### Now see the Distribution "
   ]
  },
  {
   "cell_type": "code",
   "execution_count": 3,
   "id": "5676aedd-cf0e-444c-bb4e-077300d53085",
   "metadata": {},
   "outputs": [
    {
     "data": {
      "image/png": "[encoded data removed]",
      "text/plain": [
       "<Figure size 700x400 with 1 Axes>"
      ]
     },
     "metadata": {},
     "output_type": "display_data"
    }
   ],
   "source": [
    "# Visualize\n",
    "plt.figure(figsize = (7,4))\n",
    "sns.kdeplot(x = \"pop_data\",data = pop_Table )   # kde plot show the smoothness of the graph \n",
    "plt.show()"
   ]
  },
  {
   "cell_type": "markdown",
   "id": "0a89bfd6-8afc-4121-902d-3d6f936d9a7d",
   "metadata": {},
   "source": [
    "#\n",
    "This data  is not normal distribution data this not showing the perfect sharpness means the data is not in the normal distribution form the data is more spread so we take the sample data from the data set and find out their mean "
   ]
  },
  {
   "cell_type": "markdown",
   "id": "a94d7447-7a49-4a75-b4a7-5a4f40dc2ed4",
   "metadata": {},
   "source": [
    "## Sample Data Pickup \n",
    "Here we take a sample data from the popullation data "
   ]
  },
  {
   "cell_type": "code",
   "execution_count": 4,
   "id": "d84d0260-b9b2-4329-a69d-5e6695a2709f",
   "metadata": {},
   "outputs": [],
   "source": [
    "sample_mean = []\n",
    "for no_sample in range(50):\n",
    "    sample_data = []\n",
    "    for data in range (500):\n",
    "        sample_data.append(np.random.choice(pop_data))\n",
    "    sample_mean.append(np.mean(sample_data))\n",
    "    "
   ]
  },
  {
   "cell_type": "code",
   "execution_count": 5,
   "id": "81f8faab-5d17-4c53-833e-80dcb3791a50",
   "metadata": {},
   "outputs": [
    {
     "data": {
      "text/html": [
       "<div>\n",
       "<style scoped>\n",
       "    .dataframe tbody tr th:only-of-type {\n",
       "        vertical-align: middle;\n",
       "    }\n",
       "\n",
       "    .dataframe tbody tr th {\n",
       "        vertical-align: top;\n",
       "    }\n",
       "\n",
       "    .dataframe thead th {\n",
       "        text-align: right;\n",
       "    }\n",
       "</style>\n",
       "<table border=\"1\" class=\"dataframe\">\n",
       "  <thead>\n",
       "    <tr style=\"text-align: right;\">\n",
       "      <th></th>\n",
       "      <th>sample_mean</th>\n",
       "    </tr>\n",
       "  </thead>\n",
       "  <tbody>\n",
       "    <tr>\n",
       "      <th>0</th>\n",
       "      <td>56.322</td>\n",
       "    </tr>\n",
       "    <tr>\n",
       "      <th>1</th>\n",
       "      <td>55.584</td>\n",
       "    </tr>\n",
       "    <tr>\n",
       "      <th>2</th>\n",
       "      <td>54.472</td>\n",
       "    </tr>\n",
       "    <tr>\n",
       "      <th>3</th>\n",
       "      <td>55.384</td>\n",
       "    </tr>\n",
       "    <tr>\n",
       "      <th>4</th>\n",
       "      <td>57.112</td>\n",
       "    </tr>\n",
       "  </tbody>\n",
       "</table>\n",
       "</div>"
      ],
      "text/plain": [
       "   sample_mean\n",
       "0       56.322\n",
       "1       55.584\n",
       "2       54.472\n",
       "3       55.384\n",
       "4       57.112"
      ]
     },
     "execution_count": 5,
     "metadata": {},
     "output_type": "execute_result"
    }
   ],
   "source": [
    "sample_M = pd.DataFrame({\"sample_mean\":sample_mean})\n",
    "sample_M.head()"
   ]
  },
  {
   "cell_type": "code",
   "execution_count": 6,
   "id": "f4902325-735a-4687-b0ab-42ddbcb982d5",
   "metadata": {},
   "outputs": [
    {
     "data": {
      "image/png": "[encoded data removed]",
      "text/plain": [
       "<Figure size 700x400 with 1 Axes>"
      ]
     },
     "metadata": {},
     "output_type": "display_data"
    }
   ],
   "source": [
    "plt.figure(figsize = (7,4))\n",
    "sns.kdeplot(x =\"sample_mean\" ,data = sample_M )   # kde plot show the smoothness of the graph \n",
    "plt.show()"
   ]
  },
  {
   "cell_type": "raw",
   "id": "5f6c2316-84be-488f-be97-b9475cb44fd9",
   "metadata": {},
   "source": [
    "Here after aplying the central limit theorm the data become in normal distribution form "
   ]
  },
  {
   "cell_type": "markdown",
   "id": "538aaa72-57c0-4e3a-888d-1fb3e0befbe0",
   "metadata": {},
   "source": [
    "### Conclussion \n",
    "Here we can see the difference of the graph before applying the CTR and after apllying the Central Limit Theorem "
   ]
  },
  {
   "cell_type": "markdown",
   "id": "9ffe656f-913a-4031-b248-225336195261",
   "metadata": {},
   "source": [
    "#### \n",
    "The mean of the central limit theorm and the mean of the populattion data are almost same "
   ]
  },
  {
   "cell_type": "markdown",
   "id": "56b899f2-45a0-4d19-a8c0-528c55c81ac4",
   "metadata": {},
   "source": [
    "### Check the mean \n",
    "### Popullation"
   ]
  },
  {
   "cell_type": "code",
   "execution_count": 7,
   "id": "1f150b20-fac2-4e53-8e4e-cf8b4bd57712",
   "metadata": {},
   "outputs": [
    {
     "name": "stdout",
     "output_type": "stream",
     "text": [
      "The mean of the popullation data is : 54.89\n"
     ]
    }
   ],
   "source": [
    "mean = np.mean(pop_data)\n",
    "print(f\"The mean of the popullation data is :\",mean.round(2))"
   ]
  },
  {
   "cell_type": "markdown",
   "id": "2fbe6261-3dc7-444e-8315-c7ecc76f0631",
   "metadata": {},
   "source": [
    "### Central limit Theorem "
   ]
  },
  {
   "cell_type": "code",
   "execution_count": 8,
   "id": "45ca9315-275a-4e8a-bd2c-72d009dd75a5",
   "metadata": {},
   "outputs": [
    {
     "name": "stdout",
     "output_type": "stream",
     "text": [
      "The mean of the Cenral Limit Theorem data is : 55.05\n"
     ]
    }
   ],
   "source": [
    "mean = np.mean(sample_M)\n",
    "print(f\"The mean of the Cenral Limit Theorem data is :\",mean.round(2))"
   ]
  },
  {
   "cell_type": "code",
   "execution_count": null,
   "id": "b3f8126e-a220-496d-bc1f-54850593fb32",
   "metadata": {},
   "outputs": [],
   "source": []
  }
 ],
 "metadata": {
  "kernelspec": {
   "display_name": "Python 3 (ipykernel)",
   "language": "python",
   "name": "python3"
  },
  "language_info": {
   "codemirror_mode": {
    "name": "ipython",
    "version": 3
   },
   "file_extension": ".py",
   "mimetype": "text/x-python",
   "name": "python",
   "nbconvert_exporter": "python",
   "pygments_lexer": "ipython3",
   "version": "3.13.7"
  }
 },
 "nbformat": 4,
 "nbformat_minor": 5
}
