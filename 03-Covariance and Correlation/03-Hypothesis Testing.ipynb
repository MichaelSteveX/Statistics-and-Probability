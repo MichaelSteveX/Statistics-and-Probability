{
 "cells": [
  {
   "cell_type": "markdown",
   "id": "5b5ffbd1-616b-45de-87d7-dfac53019127",
   "metadata": {},
   "source": [
    "# Hypothesis Testing"
   ]
  },
  {
   "cell_type": "raw",
   "id": "83e69be6-d7eb-491f-94f0-54961b66da76",
   "metadata": {},
   "source": [
    "Hypothes Testing Containing Two Types \n",
    "(1) Null Hypothesis[H0],\n",
    "(2) Alternative Hypothesis[Ha\n",
    "These testing is done with the help of 3 test \n",
    "(1) Z-Testing\n",
    "(2) T-Testing\n",
    "(3) Chi-square-Test"
   ]
  },
  {
   "cell_type": "markdown",
   "id": "6ee4cc64-746c-41ea-9149-fed624d6843a",
   "metadata": {},
   "source": [
    "Hypothesis Testing with Z-Test\n",
    "# Z-Testing"
   ]
  },
  {
   "cell_type": "code",
   "execution_count": 32,
   "id": "48867a50-5e35-48bf-a116-cbad68e86e65",
   "metadata": {},
   "outputs": [],
   "source": [
    "# import library\n",
    "import numpy as np\n",
    "import pandas as pd\n",
    "import scipy.stats as st"
   ]
  },
  {
   "cell_type": "raw",
   "id": "915a58b1-a9e1-4306-a30f-a4fb06ccf153",
   "metadata": {},
   "source": [
    "T Test applying condition \n",
    "(1) data = normal distribution \n",
    "(2) population data having = mean \n",
    "(3) sample data = mean\n",
    "                = standard deviation \n",
    "(4) number of sample > 30"
   ]
  },
  {
   "cell_type": "code",
   "execution_count": 18,
   "id": "1d420a89-d99a-489e-80c4-ba2d3de8d219",
   "metadata": {},
   "outputs": [],
   "source": [
    "# import the data which is given in the question \n",
    "s_x = 90\n",
    "p_u = 82\n",
    "p_std = 20\n",
    "n = 81\n",
    "alp = 0.05"
   ]
  },
  {
   "cell_type": "code",
   "execution_count": 19,
   "id": "a2fb68c7-fe7d-4966-8015-1995287a4137",
   "metadata": {},
   "outputs": [
    {
     "name": "stdout",
     "output_type": "stream",
     "text": [
      "The Z-Test of the particular data is : 3.6\n"
     ]
    }
   ],
   "source": [
    "# Now apply Z-Testing \n",
    "z_cal = (s_x - p_u)/(p_std/np.sqrt(n))\n",
    "print(f'The Z-Test of the particular data is :',z_cal.round(2))"
   ]
  },
  {
   "cell_type": "code",
   "execution_count": 24,
   "id": "600feb7b-2b4d-494b-9892-7cf94e9b3197",
   "metadata": {},
   "outputs": [
    {
     "name": "stdout",
     "output_type": "stream",
     "text": [
      "Z-table value: 1.64\n"
     ]
    }
   ],
   "source": [
    "# Now find the z-table value \n",
    "z_table = st.norm.ppf(1 - alp)\n",
    "print(\"Z-table value:\", z_table.round(2))"
   ]
  },
  {
   "cell_type": "code",
   "execution_count": 28,
   "id": "8d36ff7d-5ea4-4e0b-9066-2009ec52c425",
   "metadata": {},
   "outputs": [
    {
     "name": "stdout",
     "output_type": "stream",
     "text": [
      "ha is right\n"
     ]
    }
   ],
   "source": [
    "if z_table < z_cal:\n",
    "    print('ha is right')\n",
    "else:\n",
    "    print('h0 is wright')"
   ]
  },
  {
   "cell_type": "markdown",
   "id": "c6294f5b-75f5-41d0-ba99-e4735c1df01f",
   "metadata": {},
   "source": [
    "### Question 2 "
   ]
  },
  {
   "cell_type": "code",
   "execution_count": 65,
   "id": "f9cff6bc-67c6-464c-b7f2-3314cb47fd96",
   "metadata": {},
   "outputs": [],
   "source": [
    "# import the data set \n",
    "old_design_data = np.array([45.2,42.8,38.9,43.5,41.0,44.6,40.5,42.7,39.8,41.4,44.3,39.7,42.1,40.6,43.0,43.0,42.2,41.5,39.6,44.0,43.1,38.7,43.9,42.0,41.9,42.8,43.7,41.3,40.9,42.5,41.6])\n",
    "new_design_data = np.array([48.5,48.1,50.2,47.8,48.7,49.9,48.0,50.5,49.8,49.6,48.2,48.9,49.7,50.3,49.4,50.1,48.6,48.3,49.0,50.0,48.4,49.3,49.5,48.8,50.6,50.4,48.1,49.2,50.7,56.4,45.9])"
   ]
  },
  {
   "cell_type": "code",
   "execution_count": 66,
   "id": "8755c79f-1756-4e72-90a0-c8cd76963073",
   "metadata": {},
   "outputs": [],
   "source": [
    "# Now first find the means of both data \n",
    "old_mean = old_design_data.mean()\n",
    "new_mean = new_design_data.mean()"
   ]
  },
  {
   "cell_type": "code",
   "execution_count": 56,
   "id": "d3788379-c71e-47a9-b432-dd8ccc4a5d13",
   "metadata": {},
   "outputs": [],
   "source": [
    "# Now we put the required values \n",
    "pop_std = 2.5\n",
    "n_sp = len(new_design_data)\n",
    "apl = 0.05\n"
   ]
  },
  {
   "cell_type": "code",
   "execution_count": 58,
   "id": "bde47028-2a30-4ffe-8d1a-f5fc06a40622",
   "metadata": {},
   "outputs": [
    {
     "name": "stdout",
     "output_type": "stream",
     "text": [
      "The Z-Test of the particular data is : 26.49\n"
     ]
    }
   ],
   "source": [
    "# Now find the z-test\n",
    "z_cal = (new_mean - old_mean)/(pop_std/np.sqrt(n))\n",
    "print(f'The Z-Test of the particular data is :',z_cal.round(2))\n"
   ]
  },
  {
   "cell_type": "code",
   "execution_count": 63,
   "id": "48098289-a830-430a-9fb5-bb1d162a9bf0",
   "metadata": {},
   "outputs": [
    {
     "name": "stdout",
     "output_type": "stream",
     "text": [
      "The Z_Table value is : 1.6448536269514722\n"
     ]
    }
   ],
   "source": [
    "#Now find the z-table value \n",
    "z_table = st.norm.ppf(1 - apl)\n",
    "print(f\"The Z_Table value is :\",z_table)"
   ]
  },
  {
   "cell_type": "code",
   "execution_count": 64,
   "id": "1080176f-5500-481a-99ec-c7aa43c7359e",
   "metadata": {},
   "outputs": [
    {
     "name": "stdout",
     "output_type": "stream",
     "text": [
      "ha is right\n"
     ]
    }
   ],
   "source": [
    "if z_table < z_cal:\n",
    "    print('ha is right')\n",
    "else:\n",
    "    print('h0 is wright')"
   ]
  },
  {
   "cell_type": "markdown",
   "id": "37109911-5ed8-400d-a028-be3e83dd2a96",
   "metadata": {},
   "source": [
    "# T-Test"
   ]
  },
  {
   "cell_type": "raw",
   "id": "8adf5528-9833-485f-87ee-41ca6a08f0e2",
   "metadata": {},
   "source": [
    " T Test applying condition \n",
    "(1) data = normal distribution \n",
    "(2) population data having = mean \n",
    "(3) sample data = mean\n",
    "                = standard deviation \n",
    "(4) number of sample < 30"
   ]
  },
  {
   "cell_type": "markdown",
   "id": "6eaa078d-8362-4f8e-bc2b-3e60d3699cd0",
   "metadata": {},
   "source": [
    "## Question 1"
   ]
  },
  {
   "cell_type": "code",
   "execution_count": 67,
   "id": "39d658f2-a6ac-450b-8c15-e3b49f538c03",
   "metadata": {},
   "outputs": [],
   "source": [
    "# Now import the data \n",
    "p_u = 150\n",
    "s_mean = 148\n",
    "num_sam = 25\n",
    "std = 5\n",
    "alp = 0.5"
   ]
  },
  {
   "cell_type": "code",
   "execution_count": 73,
   "id": "273eca14-0004-4ccd-9bde-2d6e7b63b6e8",
   "metadata": {},
   "outputs": [
    {
     "name": "stdout",
     "output_type": "stream",
     "text": [
      "The T_test score is : -2.0\n"
     ]
    }
   ],
   "source": [
    "# now find the T-score / T calculate value\n",
    "T_call = (s_mean - p_u)/(std/np.sqrt(num_sam))\n",
    "print(\"The T_test score is :\",T_call)"
   ]
  },
  {
   "cell_type": "code",
   "execution_count": 72,
   "id": "d8e7cd54-5a9c-4932-a5ec-0801ebc9e88a",
   "metadata": {},
   "outputs": [
    {
     "name": "stdout",
     "output_type": "stream",
     "text": [
      "The Table T_test score is : -1.7108820799094282\n"
     ]
    }
   ],
   "source": [
    "# now find the T table value \n",
    "T_table = st.t.ppf(0.05,24)\n",
    "print(\"The Table T_test score is :\",T_table)"
   ]
  },
  {
   "cell_type": "code",
   "execution_count": 75,
   "id": "0c0e4b60-e120-4064-a038-3a9fe3a9617b",
   "metadata": {},
   "outputs": [
    {
     "name": "stdout",
     "output_type": "stream",
     "text": [
      "ha is right\n"
     ]
    }
   ],
   "source": [
    "if T_call < T_table:\n",
    "    print(\"ha is right\")\n",
    "else:\n",
    "    print('h0 is right ')"
   ]
  },
  {
   "cell_type": "markdown",
   "id": "0b70e56f-c235-41e5-9cda-f95ca30fb969",
   "metadata": {},
   "source": [
    "### Question 2 "
   ]
  },
  {
   "cell_type": "code",
   "execution_count": 6,
   "id": "2eb83c68-2fde-47d8-a0d9-2aca659ed6ca",
   "metadata": {},
   "outputs": [],
   "source": [
    "# import values \n",
    "# Here 2 teams value is given \n",
    "m_A = 80\n",
    "m_B = 75\n",
    "Std_A = 5\n",
    "Std_B = 6\n",
    "num_A = 20\n",
    "num_B = 20\n",
    "alp = 5#%"
   ]
  },
  {
   "cell_type": "raw",
   "id": "e5750b62-015c-4df8-9e11-cf77d5edc453",
   "metadata": {},
   "source": [
    "so with the help of these formula we find the t-test value \n",
    "Here we use (Two Point Test)"
   ]
  },
  {
   "cell_type": "raw",
   "id": "7c265675-52af-4088-b3fc-82780e2d5018",
   "metadata": {},
   "source": [
    "with the help of these formula we find t score \n",
    "    (xa - xb)-(ua - ub)\n",
    " t = -------------------\n",
    "    root(s2/na + s2/nb)"
   ]
  },
  {
   "cell_type": "code",
   "execution_count": 8,
   "id": "f6ab0317-4033-4bbb-be37-830704825425",
   "metadata": {},
   "outputs": [
    {
     "data": {
      "text/plain": [
       "np.float64(2.024394163911969)"
      ]
     },
     "execution_count": 8,
     "metadata": {},
     "output_type": "execute_result"
    }
   ],
   "source": [
    "# now find T table value \n",
    "t_table = st.t.ppf(1-0.025,38)\n",
    "t_table"
   ]
  },
  {
   "cell_type": "code",
   "execution_count": 17,
   "id": "6301dd49-9c44-4ef0-a694-5017994f0a33",
   "metadata": {},
   "outputs": [
    {
     "data": {
      "text/plain": [
       "np.float64(3.125)"
      ]
     },
     "execution_count": 17,
     "metadata": {},
     "output_type": "execute_result"
    }
   ],
   "source": [
    "# now we apply t test \n",
    "t_call = (80 - 75)/(np.sqrt((25/20)+ (26/20)).round(2))\n",
    "t_call"
   ]
  },
  {
   "cell_type": "code",
   "execution_count": 18,
   "id": "47098dcb-c350-48a3-843b-847bbd410daa",
   "metadata": {},
   "outputs": [
    {
     "name": "stdout",
     "output_type": "stream",
     "text": [
      "ha is right\n"
     ]
    }
   ],
   "source": [
    "if t_call > t_table:\n",
    "    print(\"ha is right\")\n",
    "else:\n",
    "    print(\"ho is right\")"
   ]
  },
  {
   "cell_type": "markdown",
   "id": "176d5f3e-23cd-415a-8e8c-e96fdde34566",
   "metadata": {},
   "source": [
    "### Question 3"
   ]
  },
  {
   "cell_type": "code",
   "execution_count": 19,
   "id": "488aaadc-34f5-4437-b23e-c2fba3fb4537",
   "metadata": {},
   "outputs": [],
   "source": [
    "# Here we have question without mean and std so we have to find from the data set "
   ]
  },
  {
   "cell_type": "raw",
   "id": "1ab75a32-45a2-44ae-8d68-d2b2c46921d9",
   "metadata": {},
   "source": [
    "In this question we use this formula \n",
    "    (xa - xb)\n",
    "t = ----------\n",
    "  sqrt(sa2/n)+(sb2/n)"
   ]
  },
  {
   "cell_type": "code",
   "execution_count": 45,
   "id": "5acb087e-8bd3-4371-99c3-048fac75677d",
   "metadata": {},
   "outputs": [],
   "source": [
    "before = np.array([50,60,45,65,55,70,40,75,80,65,70,60,50,55,45,75,60,50,65,70])\n",
    "after = np.array([60,70,55,75,65,80,50,85,90,70,75,65,55,60,50,80,65,55,70,75])"
   ]
  },
  {
   "cell_type": "code",
   "execution_count": 59,
   "id": "52a5aa6a-714e-43aa-8084-218eef3579ff",
   "metadata": {},
   "outputs": [
    {
     "data": {
      "text/plain": [
       "np.float64(60.25)"
      ]
     },
     "execution_count": 59,
     "metadata": {},
     "output_type": "execute_result"
    }
   ],
   "source": [
    "# find mean \n",
    "mean_b = np.mean(before)\n",
    "mean_b"
   ]
  },
  {
   "cell_type": "code",
   "execution_count": 58,
   "id": "7952dce9-1cd6-4e50-82a9-356463f7d27a",
   "metadata": {},
   "outputs": [
    {
     "data": {
      "text/plain": [
       "np.float64(67.5)"
      ]
     },
     "execution_count": 58,
     "metadata": {},
     "output_type": "execute_result"
    }
   ],
   "source": [
    "mean_a = np.mean(after)\n",
    "mean_a"
   ]
  },
  {
   "cell_type": "code",
   "execution_count": 61,
   "id": "ddba0502-2aa6-4cdc-bdd0-9b737811bdad",
   "metadata": {},
   "outputs": [
    {
     "data": {
      "text/plain": [
       "np.float64(11.01)"
      ]
     },
     "execution_count": 61,
     "metadata": {},
     "output_type": "execute_result"
    }
   ],
   "source": [
    "# Now find the standard deviation \n",
    "std_b = np.std(before).round(2)\n",
    "std_b"
   ]
  },
  {
   "cell_type": "code",
   "execution_count": 62,
   "id": "52bb05b9-8cb1-4040-b6f3-a0cbf50bbac9",
   "metadata": {},
   "outputs": [
    {
     "data": {
      "text/plain": [
       "np.float64(11.24)"
      ]
     },
     "execution_count": 62,
     "metadata": {},
     "output_type": "execute_result"
    }
   ],
   "source": [
    "std_a = np.std(after).round(2)\n",
    "std_a"
   ]
  },
  {
   "cell_type": "code",
   "execution_count": 50,
   "id": "ff48c83d-0920-49e9-9f41-db7b1e5e1cf1",
   "metadata": {},
   "outputs": [
    {
     "data": {
      "text/plain": [
       "np.float64(2.093)"
      ]
     },
     "execution_count": 50,
     "metadata": {},
     "output_type": "execute_result"
    }
   ],
   "source": [
    "# now calculate the t-table value \n",
    "t_table = st.t.ppf(1-0.025,19).round(3)\n",
    "t_table"
   ]
  },
  {
   "cell_type": "code",
   "execution_count": 63,
   "id": "326bad66-31b4-493f-b336-bebeebb7fa38",
   "metadata": {},
   "outputs": [],
   "source": [
    "# so before calculate first we arrange all the data \n",
    "mean_b = 60.25\n",
    "mean_a = 67.5\n",
    "std_b = 11.01\n",
    "std_a = 11.24\n",
    "n = 20 "
   ]
  },
  {
   "cell_type": "code",
   "execution_count": 71,
   "id": "eb580d0e-27a0-4ba7-b205-354a12f36dbb",
   "metadata": {},
   "outputs": [
    {
     "data": {
      "text/plain": [
       "np.float64(2.060830017055145)"
      ]
     },
     "execution_count": 71,
     "metadata": {},
     "output_type": "execute_result"
    }
   ],
   "source": [
    "# now calculate the t-test value \n",
    "t_call = (mean_a - mean_b)/(np.sqrt(((std_a*std_a)/len(after)) +((std_b*std_b)/len(before)))).round(3)\n",
    "t_call"
   ]
  },
  {
   "cell_type": "code",
   "execution_count": 72,
   "id": "8d523212-7620-4969-bd3e-14c3180b837e",
   "metadata": {},
   "outputs": [
    {
     "name": "stdout",
     "output_type": "stream",
     "text": [
      "ho is right\n"
     ]
    }
   ],
   "source": [
    "if t_call < t_table:\n",
    "    print(\"ho is right\")\n",
    "else:\n",
    "    print(\"ha is right\")"
   ]
  },
  {
   "cell_type": "markdown",
   "id": "178e8cfa-2b16-48b9-a282-31444df3097d",
   "metadata": {},
   "source": [
    "# Chi-Square Test"
   ]
  },
  {
   "cell_type": "code",
   "execution_count": 2,
   "id": "ae569f1b-e8ff-48f7-85cd-80bd2a3daf08",
   "metadata": {},
   "outputs": [],
   "source": [
    "# we calculate the chi squre value "
   ]
  },
  {
   "cell_type": "raw",
   "id": "2c1f748e-db4c-4e85-98c7-cc6ab4ba8d66",
   "metadata": {},
   "source": [
    "chi = submision(O - E)squre\n",
    "      ---------------------\n",
    "              E "
   ]
  },
  {
   "cell_type": "markdown",
   "id": "91003217-f835-4659-9155-646ea0b46019",
   "metadata": {},
   "source": [
    "### Question 1 "
   ]
  },
  {
   "cell_type": "raw",
   "id": "6d154673-779f-4094-b1c0-542c3af0f1b6",
   "metadata": {},
   "source": [
    "some given value \n",
    "alp = 0.05\n",
    "df = (n-1) = (6-1) = 5"
   ]
  },
  {
   "cell_type": "code",
   "execution_count": 4,
   "id": "c4329e12-6a6b-4705-8405-9907cf6a6525",
   "metadata": {},
   "outputs": [],
   "source": [
    "# load data\n",
    "ob = np.array([22,17,20,26,22,13])\n",
    "ex = np.array([20,20,20,20,20,20])"
   ]
  },
  {
   "cell_type": "code",
   "execution_count": 21,
   "id": "953176af-7411-4dce-8393-23e4bdeb462d",
   "metadata": {},
   "outputs": [
    {
     "data": {
      "text/plain": [
       "np.float64(11.070497693516351)"
      ]
     },
     "execution_count": 21,
     "metadata": {},
     "output_type": "execute_result"
    }
   ],
   "source": [
    "# find chi square table value \n",
    "chi_table = st.chi2.ppf(1-0.05,5)\n",
    "chi_table"
   ]
  },
  {
   "cell_type": "code",
   "execution_count": 23,
   "id": "542a8798-2c18-48da-9c40-d7fbbe59d163",
   "metadata": {},
   "outputs": [
    {
     "data": {
      "text/plain": [
       "np.float64(5.1)"
      ]
     },
     "execution_count": 23,
     "metadata": {},
     "output_type": "execute_result"
    }
   ],
   "source": [
    "chi_value = np.sum(np.square(ob-ex)/ex).round(2)\n",
    "chi_value"
   ]
  },
  {
   "cell_type": "code",
   "execution_count": 24,
   "id": "09320bc7-2178-4821-9d3b-b8553d2f9b43",
   "metadata": {},
   "outputs": [
    {
     "name": "stdout",
     "output_type": "stream",
     "text": [
      "ho die is fair\n"
     ]
    }
   ],
   "source": [
    "if chi_table > chi_value:\n",
    "    print(\"ho die is fair\")\n",
    "else:\n",
    "    print(\"ha die is not fair\")"
   ]
  },
  {
   "cell_type": "markdown",
   "id": "1c44fa4f-40b1-403d-92c0-bae351c67da2",
   "metadata": {},
   "source": [
    "### Question 2 "
   ]
  },
  {
   "cell_type": "code",
   "execution_count": 26,
   "id": "df7ca709-c849-463a-8ca1-32811f6c5843",
   "metadata": {},
   "outputs": [],
   "source": [
    "# given value \n",
    "alp = 0.05\n",
    "df = 3"
   ]
  },
  {
   "cell_type": "code",
   "execution_count": 29,
   "id": "49f31f47-dff5-4832-828b-731ecdddeb13",
   "metadata": {},
   "outputs": [
    {
     "data": {
      "text/plain": [
       "np.float64(7.815)"
      ]
     },
     "execution_count": 29,
     "metadata": {},
     "output_type": "execute_result"
    }
   ],
   "source": [
    "# now find chi-square table value \n",
    "chi_table = st.chi2.ppf(1-0.05,3).round(3)\n",
    "chi_table"
   ]
  },
  {
   "cell_type": "code",
   "execution_count": 38,
   "id": "5564b23d-2ebd-4aeb-8468-a4d52c6e3388",
   "metadata": {},
   "outputs": [],
   "source": [
    "# data\n",
    "row1 = np.array([40,45,25,10])\n",
    "row2 = np.array([35,30,20,30])"
   ]
  },
  {
   "cell_type": "code",
   "execution_count": 46,
   "id": "499f6383-3d1f-468d-9dc1-c9962bb55041",
   "metadata": {},
   "outputs": [
    {
     "data": {
      "text/plain": [
       "array([120, 115])"
      ]
     },
     "execution_count": 46,
     "metadata": {},
     "output_type": "execute_result"
    }
   ],
   "source": [
    "# now sum of rows \n",
    "sum_r1 = np.sum(row1)\n",
    "sum_r2 = np.sum(row2)\n",
    "sum_row =np.array([sum_r1,sum_r2])\n",
    "sum_row"
   ]
  },
  {
   "cell_type": "code",
   "execution_count": 44,
   "id": "7c586567-7ead-4116-8de6-dfc4ed8621a6",
   "metadata": {},
   "outputs": [
    {
     "data": {
      "text/plain": [
       "array([75, 75, 45, 40])"
      ]
     },
     "execution_count": 44,
     "metadata": {},
     "output_type": "execute_result"
    }
   ],
   "source": [
    "# now sum of column \n",
    "sum_c1 = row1 +row2\n",
    "sum_c1"
   ]
  },
  {
   "cell_type": "code",
   "execution_count": 55,
   "id": "ce87afab-1ce8-40b8-8938-d5cec9b14ca4",
   "metadata": {},
   "outputs": [
    {
     "data": {
      "text/plain": [
       "[np.float64(38.297872340425535),\n",
       " np.float64(38.297872340425535),\n",
       " np.float64(22.97872340425532),\n",
       " np.float64(20.425531914893618),\n",
       " np.float64(36.702127659574465),\n",
       " np.float64(36.702127659574465),\n",
       " np.float64(22.02127659574468),\n",
       " np.float64(19.574468085106382)]"
      ]
     },
     "execution_count": 55,
     "metadata": {},
     "output_type": "execute_result"
    }
   ],
   "source": [
    "# find excepted value \n",
    "exp = []\n",
    "for i in sum_row:\n",
    "    for j in sum_c1:\n",
    "        value = (i*j)/235\n",
    "        exp.append(value)\n",
    "exp"
   ]
  },
  {
   "cell_type": "code",
   "execution_count": 57,
   "id": "3ca0202a-0666-4386-82b6-dbb49702e730",
   "metadata": {},
   "outputs": [
    {
     "data": {
      "text/plain": [
       "array([40, 45, 25, 10, 35, 30, 20, 30])"
      ]
     },
     "execution_count": 57,
     "metadata": {},
     "output_type": "execute_result"
    }
   ],
   "source": [
    "# observation value \n",
    "obj = np.array([40,45,25,10,35,30,20,30])\n",
    "obj"
   ]
  },
  {
   "cell_type": "code",
   "execution_count": 60,
   "id": "4a880900-5d42-4742-bcb9-cf1155c87e5f",
   "metadata": {},
   "outputs": [
    {
     "data": {
      "text/plain": [
       "np.float64(13.788747987117553)"
      ]
     },
     "execution_count": 60,
     "metadata": {},
     "output_type": "execute_result"
    }
   ],
   "source": [
    "# now find chi-square calculated value \n",
    "chi_value =np.sum((np.square(obj-exp))/exp)\n",
    "chi_value"
   ]
  },
  {
   "cell_type": "code",
   "execution_count": 61,
   "id": "642a5095-1ceb-4cd5-b4da-617d6fb846b8",
   "metadata": {},
   "outputs": [
    {
     "name": "stdout",
     "output_type": "stream",
     "text": [
      "Ho (Bothe have association)\n"
     ]
    }
   ],
   "source": [
    "if chi_value > chi_table:\n",
    "    print(\"Ho (Bothe have association)\")\n",
    "else:\n",
    "    print(\"Ha (Both have no association)\")"
   ]
  },
  {
   "cell_type": "code",
   "execution_count": null,
   "id": "4dc96d3e-ee08-4a80-afc9-1b8ca4042abf",
   "metadata": {},
   "outputs": [],
   "source": []
  }
 ],
 "metadata": {
  "kernelspec": {
   "display_name": "Python 3 (ipykernel)",
   "language": "python",
   "name": "python3"
  },
  "language_info": {
   "codemirror_mode": {
    "name": "ipython",
    "version": 3
   },
   "file_extension": ".py",
   "mimetype": "text/x-python",
   "name": "python",
   "nbconvert_exporter": "python",
   "pygments_lexer": "ipython3",
   "version": "3.13.7"
  }
 },
 "nbformat": 4,
 "nbformat_minor": 5
}
