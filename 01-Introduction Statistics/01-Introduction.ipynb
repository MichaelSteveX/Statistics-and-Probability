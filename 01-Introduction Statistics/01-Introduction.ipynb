{
 "cells": [
  {
   "cell_type": "markdown",
   "id": "d68af964-cc10-4b05-b1cb-076d4c80dfba",
   "metadata": {},
   "source": [
    "# 1 Introduction to Statistics "
   ]
  },
  {
   "cell_type": "markdown",
   "id": "37f11ee3-e8e5-4a2b-93ce-50b56179def2",
   "metadata": {},
   "source": [
    "## Population and Sample"
   ]
  },
  {
   "cell_type": "markdown",
   "id": "f5ce84f4-6493-4105-8d77-8d29dd86fb74",
   "metadata": {},
   "source": [
    "### Population"
   ]
  },
  {
   "cell_type": "raw",
   "id": "5617bb0c-050d-4a79-9abd-11b87addb2f5",
   "metadata": {},
   "source": [
    "A population includes all of the element from a set of data .(the population is the whole set of values or individuals)"
   ]
  },
  {
   "cell_type": "raw",
   "id": "7fbf4254-8f20-41ef-8b22-f9ba50ee81dc",
   "metadata": {},
   "source": [
    "Population characteristic are (mean),(standard deviation),(proportion),(median),(percentile) etc"
   ]
  },
  {
   "cell_type": "raw",
   "id": "49cc1cbd-7157-4ae4-ab7c-62cfcd80c3d6",
   "metadata": {},
   "source": [
    "Population data ka use hum tab karte hai jab hamare paas small amount of data present ho (agar large amount of data present hai to\n",
    "to hum sample data ka use krenge)"
   ]
  },
  {
   "cell_type": "markdown",
   "id": "7e779a40-922f-4b47-90e9-eda6a03b3c1c",
   "metadata": {},
   "source": [
    "### Sample"
   ]
  },
  {
   "cell_type": "raw",
   "id": "f8d60b29-3817-425b-9081-7ccf35e06368",
   "metadata": {},
   "source": [
    "A sample is a subset of the population data "
   ]
  },
  {
   "cell_type": "raw",
   "id": "f7022853-aac8-44ef-a302-da74ec38d4b5",
   "metadata": {},
   "source": [
    "The sample has some quantity computed from value eg (mean),(standard deviation),(sample proportion)"
   ]
  },
  {
   "cell_type": "raw",
   "id": "0ab5f863-c52a-4cfb-a642-987651fe3120",
   "metadata": {},
   "source": [
    "Sample data hamara subset hota hai population data ka (sample data hum large amount of data pe use krte hai)"
   ]
  },
  {
   "cell_type": "raw",
   "id": "7caebd31-374c-4282-9173-c4fbe16145d6",
   "metadata": {},
   "source": [
    "Large amount of data lete hai aur usme se hum important rows and solumns lete hai that is called the sample data "
   ]
  },
  {
   "cell_type": "raw",
   "id": "b669fcdc-649a-41f5-8dff-4b34bd35d072",
   "metadata": {},
   "source": [
    "Sample data ka use hum is liye krte hai ku ki (sample data and population data ki aqurecy almost same hoti hai ) to large ammount\n",
    "of data na lekar hum sample data lete hai"
   ]
  },
  {
   "cell_type": "markdown",
   "id": "e1c92676-3f06-4bf3-bfe8-1228e7e07f3d",
   "metadata": {},
   "source": [
    "## Statistics "
   ]
  },
  {
   "cell_type": "raw",
   "id": "fc6f306b-6b88-49ec-b11b-4c51e2248f46",
   "metadata": {},
   "source": [
    "Statistics is a set of mathematical methods and tools that enable us to answer important question about the data \n",
    "\n",
    "--It divided in to two categories\n",
    "* Descriptive (when we apply any analysis on any polution data then that is Descriptive Statistics)\n",
    "\n",
    "* Inferential (when we apply the analysis on ample data then we used the inferential statistics)\n"
   ]
  },
  {
   "cell_type": "raw",
   "id": "1d9faf02-72bd-4b7a-8603-efa5b37dcdc8",
   "metadata": {},
   "source": [
    "* Descriptive \n",
    "             - Measure of central tendency >> (mean,mode,median)\n",
    "\n",
    "             - Measure of variability >> (Range,Mean absolute variance,Variance,Standard deviation)\n",
    "\n",
    "             - Measure of shape >> (Skewnes (shape of the data set)) \n",
    "\n",
    "             - Percentile >> (percentage,quantile,Box plot)\n",
    "\n",
    "             - Frequency Distribution >> (frequency distribution plots)\n",
    "\n",
    "             - Covariance and Correlation >> (relationship between two data set)\n",
    "\n",
    "* Inferential \n",
    "            - Central Limit Theorem\n",
    "\n",
    "            - Hypothesis Testing\n",
    "                    . Z Testing\n",
    "                    . T testing\n",
    "                    . Chi Square Test"
   ]
  },
  {
   "cell_type": "code",
   "execution_count": null,
   "id": "b22e3a71-1f5c-4e2d-b031-b5ceff7e476f",
   "metadata": {},
   "outputs": [],
   "source": []
  }
 ],
 "metadata": {
  "kernelspec": {
   "display_name": "Python 3 (ipykernel)",
   "language": "python",
   "name": "python3"
  },
  "language_info": {
   "codemirror_mode": {
    "name": "ipython",
    "version": 3
   },
   "file_extension": ".py",
   "mimetype": "text/x-python",
   "name": "python",
   "nbconvert_exporter": "python",
   "pygments_lexer": "ipython3",
   "version": "3.13.1"
  }
 },
 "nbformat": 4,
 "nbformat_minor": 5
}
