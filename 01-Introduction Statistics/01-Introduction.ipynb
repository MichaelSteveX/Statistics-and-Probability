{
 "cells": [
  {
   "cell_type": "markdown",
   "id": "d68af964-cc10-4b05-b1cb-076d4c80dfba",
   "metadata": {},
   "source": [
    "# 1 Introduction to Statistics "
   ]
  },
  {
   "cell_type": "markdown",
   "id": "37f11ee3-e8e5-4a2b-93ce-50b56179def2",
   "metadata": {},
   "source": [
    "## Population and Sample"
   ]
  },
  {
   "cell_type": "markdown",
   "id": "f5ce84f4-6493-4105-8d77-8d29dd86fb74",
   "metadata": {},
   "source": [
    "### Population"
   ]
  },
  {
   "cell_type": "markdown",
   "id": "6da8db26-7803-440b-bf7d-ed18bdfa1da3",
   "metadata": {},
   "source": [
    "##### A population includes all of the element from a set of data .(the population is the whole set of values or individuals)"
   ]
  },
  {
   "cell_type": "markdown",
   "id": "56b81991-fd97-4569-9a4e-6a9ad244196c",
   "metadata": {},
   "source": [
    "##### Population characteristic are (mean),(standard deviation),(proportion),(median),(percentile) etc"
   ]
  },
  {
   "cell_type": "markdown",
   "id": "5ca7152a-f1c6-417a-9f34-64659c158158",
   "metadata": {},
   "source": [
    "##### Population data ka use hum tab karte hai jab hamare paas small amount of data present ho (agar large amount of data present hai to\n",
    "to hum sample data ka use krenge)"
   ]
  },
  {
   "cell_type": "markdown",
   "id": "7e779a40-922f-4b47-90e9-eda6a03b3c1c",
   "metadata": {},
   "source": [
    "### Sample"
   ]
  },
  {
   "cell_type": "markdown",
   "id": "9508672e-7de1-433b-a9fd-c32e4e20bf70",
   "metadata": {},
   "source": [
    "##### A sample is a subset of the population data "
   ]
  },
  {
   "cell_type": "markdown",
   "id": "372b74e8-22a5-4a24-96ac-8e07af766ae2",
   "metadata": {},
   "source": [
    "##### The sample has some quantity computed from value eg (mean),(standard deviation),(sample proportion)"
   ]
  },
  {
   "cell_type": "markdown",
   "id": "7b7e3234-da48-487a-b9d9-c763c7f9473c",
   "metadata": {},
   "source": [
    "##### Sample data hamara subset hota hai population data ka (sample data hum large amount of data pe use krte hai)"
   ]
  },
  {
   "cell_type": "markdown",
   "id": "1b6628a0-c737-4c84-b34e-cc847776e531",
   "metadata": {},
   "source": [
    "##### Large amount of data lete hai aur usme se hum important rows and solumns lete hai that is called the sample data "
   ]
  },
  {
   "cell_type": "markdown",
   "id": "47706011-40ea-4105-8122-d2edd728b856",
   "metadata": {},
   "source": [
    "##### Sample data ka use hum is liye krte hai ku ki (sample data and population data ki aqurecy almost same hoti hai ) to large ammount\n",
    "of data na lekar hum sample data lete hai"
   ]
  },
  {
   "cell_type": "markdown",
   "id": "e1c92676-3f06-4bf3-bfe8-1228e7e07f3d",
   "metadata": {},
   "source": [
    "# Statistics "
   ]
  },
  {
   "cell_type": "markdown",
   "id": "b839366e-5f39-4a41-8160-8a75dc880ce1",
   "metadata": {},
   "source": [
    "##### Statistics is a set of mathematical methods and tools that enable us to answer important question about the data \n",
    "\n",
    "--It divided in to two categories\n",
    "* Descriptive (when we apply any analysis on any polution data then that is Descriptive Statistics)\n",
    "\n",
    "* Inferential (when we apply the analysis on ample data then we used the inferential statistics)\n"
   ]
  },
  {
   "cell_type": "markdown",
   "id": "0ff6cf34-1cc6-49ca-941f-b719a7b90dfd",
   "metadata": {},
   "source": [
    "##### * Descriptive \n",
    "             - Measure of central tendency >> (mean,mode,median)\n",
    "\n",
    "             - Measure of variability >> (Range,Mean absolute variance,Variance,Standard deviation)\n",
    "\n",
    "             - Measure of shape >> (Skewnes (shape of the data set)) \n",
    "\n",
    "             - Percentile >> (percentage,quantile,Box plot)\n",
    "\n",
    "             - Frequency Distribution >> (frequency distribution plots)\n",
    "\n",
    "             - Covariance and Correlation >> (relationship between two data set)\n",
    "\n",
    "##### * Inferential \n",
    "            - Central Limit Theorem\n",
    "\n",
    "            - Hypothesis Testing\n",
    "                    . Z Testing\n",
    "                    . T testing\n",
    "                    . Chi Square Test"
   ]
  },
  {
   "cell_type": "code",
   "execution_count": null,
   "id": "b22e3a71-1f5c-4e2d-b031-b5ceff7e476f",
   "metadata": {},
   "outputs": [],
   "source": []
  }
 ],
 "metadata": {
  "kernelspec": {
   "display_name": "Python 3 (ipykernel)",
   "language": "python",
   "name": "python3"
  },
  "language_info": {
   "codemirror_mode": {
    "name": "ipython",
    "version": 3
   },
   "file_extension": ".py",
   "mimetype": "text/x-python",
   "name": "python",
   "nbconvert_exporter": "python",
   "pygments_lexer": "ipython3",
   "version": "3.13.7"
  }
 },
 "nbformat": 4,
 "nbformat_minor": 5
}
