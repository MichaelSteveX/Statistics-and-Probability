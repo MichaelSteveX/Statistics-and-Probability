{
 "cells": [
  {
   "cell_type": "markdown",
   "id": "4d97eb0a-652f-4e57-8b35-ebdf5dc1c9f0",
   "metadata": {},
   "source": [
    "# Inferential Statistics"
   ]
  },
  {
   "cell_type": "markdown",
   "id": "5e53343c-0534-4a53-989a-c9ceb796a272",
   "metadata": {},
   "source": [
    "##### Inferential Statistics\n",
    "\n",
    "👉 It means making predictions, testing hypotheses, and drawing conclusions about a population from a sample.\n",
    "\n",
    "Topics in Inferential Statistics:\n",
    "\n",
    "(1) Probability Concepts\n",
    "\n",
    "Probability distributions (Normal, Binomial, Poisson, etc.)\n",
    "\n",
    "(2) Estimation\n",
    "\n",
    "Point estimation\n",
    "\n",
    "Interval estimation (Confidence Intervals)\n",
    "\n",
    "(3) Hypothesis Testing\n",
    "\n",
    "Null & Alternative Hypothesis\n",
    "\n",
    "t-test, z-test\n",
    "\n",
    "Chi-square test\n",
    "\n",
    "ANOVA (Analysis of Variance)\n",
    "\n",
    "(3) Correlation & Regression\n",
    "\n",
    "Correlation (relationship between variables)\n",
    "\n",
    "Regression (predicting one variable from another)\n",
    "\n",
    "(4) Sampling Methods\n",
    "\n",
    "Random sampling\n",
    "\n",
    "Stratified sampling\n",
    "\n",
    "Systematic sampling"
   ]
  },
  {
   "cell_type": "code",
   "execution_count": null,
   "id": "ea8f2171-88e3-49b5-a4c7-77f714d02997",
   "metadata": {},
   "outputs": [],
   "source": []
  }
 ],
 "metadata": {
  "kernelspec": {
   "display_name": "Python 3 (ipykernel)",
   "language": "python",
   "name": "python3"
  },
  "language_info": {
   "codemirror_mode": {
    "name": "ipython",
    "version": 3
   },
   "file_extension": ".py",
   "mimetype": "text/x-python",
   "name": "python",
   "nbconvert_exporter": "python",
   "pygments_lexer": "ipython3",
   "version": "3.13.7"
  }
 },
 "nbformat": 4,
 "nbformat_minor": 5
}
