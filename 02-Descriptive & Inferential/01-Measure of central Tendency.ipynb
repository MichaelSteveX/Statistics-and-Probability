{
 "cells": [
  {
   "cell_type": "markdown",
   "id": "a740b79d-60b1-4fc4-8c7b-881c1548e8ac",
   "metadata": {},
   "source": [
    "# Measure Of Central Tendency (mean,mode,median)"
   ]
  },
  {
   "cell_type": "raw",
   "id": "64bb719e-3afb-424e-8931-318537af5e8d",
   "metadata": {},
   "source": [
    "Mean is basically the overall average of the particular column in the Data\n",
    "\n",
    "                  Mean = sum of all data/total number of all data\n"
   ]
  },
  {
   "cell_type": "markdown",
   "id": "d39f59dd-23ee-49de-a607-efbb6c1a7fd4",
   "metadata": {},
   "source": [
    "## Mean"
   ]
  },
  {
   "cell_type": "code",
   "execution_count": 43,
   "id": "433eb2c2-ab3d-4ec9-b772-e9202724b91b",
   "metadata": {},
   "outputs": [],
   "source": [
    "import numpy as np\n",
    "import pandas as pd\n",
    "import warnings\n",
    "warnings.filterwarnings(\"ignore\")"
   ]
  },
  {
   "cell_type": "markdown",
   "id": "031951d9-9d6b-4ce7-ab85-1dba7d9c7111",
   "metadata": {},
   "source": [
    "#### Method 1 with array"
   ]
  },
  {
   "cell_type": "code",
   "execution_count": 2,
   "id": "814b922f-6e76-4050-aa8d-e77eb2626329",
   "metadata": {},
   "outputs": [
    {
     "data": {
      "text/plain": [
       "array([4, 5, 3, 4, 2, 3, 4, 2, 2, 4, 5, 6, 7])"
      ]
     },
     "execution_count": 2,
     "metadata": {},
     "output_type": "execute_result"
    }
   ],
   "source": [
    "# make a data set\n",
    "ar = np.array((4,5,3,4,2,3,4,2,2,4,5,6,7))\n",
    "ar"
   ]
  },
  {
   "cell_type": "code",
   "execution_count": 3,
   "id": "4da61e3e-3787-4c30-934a-b89fcba1a5a2",
   "metadata": {},
   "outputs": [
    {
     "data": {
      "text/plain": [
       "np.int64(51)"
      ]
     },
     "execution_count": 3,
     "metadata": {},
     "output_type": "execute_result"
    }
   ],
   "source": [
    "np.sum(ar)"
   ]
  },
  {
   "cell_type": "code",
   "execution_count": 5,
   "id": "0a27c702-6560-4403-90f3-eb5f913b62c9",
   "metadata": {},
   "outputs": [
    {
     "data": {
      "text/plain": [
       "13"
      ]
     },
     "execution_count": 5,
     "metadata": {},
     "output_type": "execute_result"
    }
   ],
   "source": [
    "len(ar)"
   ]
  },
  {
   "cell_type": "code",
   "execution_count": 8,
   "id": "cdaa9310-f121-45ac-b6bd-61a88705f612",
   "metadata": {},
   "outputs": [
    {
     "name": "stdout",
     "output_type": "stream",
     "text": [
      "The average of the array is : 3.923076923076923\n"
     ]
    }
   ],
   "source": [
    "np.sum(ar)/len(ar)\n",
    "print(f\"The average of the array is :\",np.sum(ar)/len(ar))"
   ]
  },
  {
   "cell_type": "code",
   "execution_count": 9,
   "id": "dac204e9-5ab9-484b-b07b-8569b85272e5",
   "metadata": {},
   "outputs": [
    {
     "data": {
      "text/plain": [
       "np.float64(3.923076923076923)"
      ]
     },
     "execution_count": 9,
     "metadata": {},
     "output_type": "execute_result"
    }
   ],
   "source": [
    "# with formula \n",
    "np.mean(ar)"
   ]
  },
  {
   "cell_type": "markdown",
   "id": "86f3b2fd-c616-48db-9e95-8941018a905a",
   "metadata": {},
   "source": [
    "#### Method 2 with Data Frame"
   ]
  },
  {
   "cell_type": "code",
   "execution_count": 115,
   "id": "fb180eb0-0228-4c7e-940f-51909e0541cc",
   "metadata": {},
   "outputs": [
    {
     "data": {
      "text/html": [
       "<div>\n",
       "<style scoped>\n",
       "    .dataframe tbody tr th:only-of-type {\n",
       "        vertical-align: middle;\n",
       "    }\n",
       "\n",
       "    .dataframe tbody tr th {\n",
       "        vertical-align: top;\n",
       "    }\n",
       "\n",
       "    .dataframe thead th {\n",
       "        text-align: right;\n",
       "    }\n",
       "</style>\n",
       "<table border=\"1\" class=\"dataframe\">\n",
       "  <thead>\n",
       "    <tr style=\"text-align: right;\">\n",
       "      <th></th>\n",
       "      <th>survived</th>\n",
       "      <th>pclass</th>\n",
       "      <th>sex</th>\n",
       "      <th>age</th>\n",
       "      <th>sibsp</th>\n",
       "      <th>parch</th>\n",
       "      <th>fare</th>\n",
       "      <th>embarked</th>\n",
       "      <th>class</th>\n",
       "      <th>who</th>\n",
       "      <th>adult_male</th>\n",
       "      <th>deck</th>\n",
       "      <th>embark_town</th>\n",
       "      <th>alive</th>\n",
       "      <th>alone</th>\n",
       "    </tr>\n",
       "  </thead>\n",
       "  <tbody>\n",
       "    <tr>\n",
       "      <th>0</th>\n",
       "      <td>0</td>\n",
       "      <td>3</td>\n",
       "      <td>male</td>\n",
       "      <td>22.0</td>\n",
       "      <td>1</td>\n",
       "      <td>0</td>\n",
       "      <td>7.2500</td>\n",
       "      <td>S</td>\n",
       "      <td>Third</td>\n",
       "      <td>man</td>\n",
       "      <td>True</td>\n",
       "      <td>NaN</td>\n",
       "      <td>Southampton</td>\n",
       "      <td>no</td>\n",
       "      <td>False</td>\n",
       "    </tr>\n",
       "    <tr>\n",
       "      <th>1</th>\n",
       "      <td>1</td>\n",
       "      <td>1</td>\n",
       "      <td>female</td>\n",
       "      <td>38.0</td>\n",
       "      <td>1</td>\n",
       "      <td>0</td>\n",
       "      <td>71.2833</td>\n",
       "      <td>C</td>\n",
       "      <td>First</td>\n",
       "      <td>woman</td>\n",
       "      <td>False</td>\n",
       "      <td>C</td>\n",
       "      <td>Cherbourg</td>\n",
       "      <td>yes</td>\n",
       "      <td>False</td>\n",
       "    </tr>\n",
       "    <tr>\n",
       "      <th>2</th>\n",
       "      <td>1</td>\n",
       "      <td>3</td>\n",
       "      <td>female</td>\n",
       "      <td>26.0</td>\n",
       "      <td>0</td>\n",
       "      <td>0</td>\n",
       "      <td>7.9250</td>\n",
       "      <td>S</td>\n",
       "      <td>Third</td>\n",
       "      <td>woman</td>\n",
       "      <td>False</td>\n",
       "      <td>NaN</td>\n",
       "      <td>Southampton</td>\n",
       "      <td>yes</td>\n",
       "      <td>True</td>\n",
       "    </tr>\n",
       "    <tr>\n",
       "      <th>3</th>\n",
       "      <td>1</td>\n",
       "      <td>1</td>\n",
       "      <td>female</td>\n",
       "      <td>35.0</td>\n",
       "      <td>1</td>\n",
       "      <td>0</td>\n",
       "      <td>53.1000</td>\n",
       "      <td>S</td>\n",
       "      <td>First</td>\n",
       "      <td>woman</td>\n",
       "      <td>False</td>\n",
       "      <td>C</td>\n",
       "      <td>Southampton</td>\n",
       "      <td>yes</td>\n",
       "      <td>False</td>\n",
       "    </tr>\n",
       "  </tbody>\n",
       "</table>\n",
       "</div>"
      ],
      "text/plain": [
       "   survived  pclass     sex   age  sibsp  parch     fare embarked  class  \\\n",
       "0         0       3    male  22.0      1      0   7.2500        S  Third   \n",
       "1         1       1  female  38.0      1      0  71.2833        C  First   \n",
       "2         1       3  female  26.0      0      0   7.9250        S  Third   \n",
       "3         1       1  female  35.0      1      0  53.1000        S  First   \n",
       "\n",
       "     who  adult_male deck  embark_town alive  alone  \n",
       "0    man        True  NaN  Southampton    no  False  \n",
       "1  woman       False    C    Cherbourg   yes  False  \n",
       "2  woman       False  NaN  Southampton   yes   True  \n",
       "3  woman       False    C  Southampton   yes  False  "
      ]
     },
     "execution_count": 115,
     "metadata": {},
     "output_type": "execute_result"
    }
   ],
   "source": [
    "# load the data set \n",
    "Titanic = sns.load_dataset(\"titanic\")\n",
    "Titanic.head(4)"
   ]
  },
  {
   "cell_type": "code",
   "execution_count": 116,
   "id": "1440fd4b-2e48-49f2-a50a-73803e87e71f",
   "metadata": {},
   "outputs": [
    {
     "data": {
      "text/plain": [
       "np.float64(29.69911764705882)"
      ]
     },
     "execution_count": 116,
     "metadata": {},
     "output_type": "execute_result"
    }
   ],
   "source": [
    "# Now find out the mean of age \n",
    "Titanic[\"age\"].mean()"
   ]
  },
  {
   "cell_type": "code",
   "execution_count": 117,
   "id": "3532cf74-da87-412e-96da-65c759562963",
   "metadata": {},
   "outputs": [],
   "source": [
    "# we also use the numpy in dataset \n",
    "mn = np.mean(Titanic[\"age\"])"
   ]
  },
  {
   "cell_type": "code",
   "execution_count": 118,
   "id": "dca233e2-29d4-422d-905e-83b3802a93a5",
   "metadata": {},
   "outputs": [
    {
     "data": {
      "text/plain": [
       "np.float64(32.204207968574636)"
      ]
     },
     "execution_count": 118,
     "metadata": {},
     "output_type": "execute_result"
    }
   ],
   "source": [
    "ms = np.mean(Titanic[\"fare\"])\n",
    "ms"
   ]
  },
  {
   "cell_type": "markdown",
   "id": "b43900e7-ac35-4611-a3d3-94c3cf469f6c",
   "metadata": {},
   "source": [
    "#### Mean visualization"
   ]
  },
  {
   "cell_type": "code",
   "execution_count": 74,
   "id": "d5d2a92d-0406-411d-b344-3ef05be477a0",
   "metadata": {},
   "outputs": [],
   "source": [
    "# if we want to see the mean value with visualization then we have to immport matplotlib and seaborn librarY\n",
    "import matplotlib.pyplot as plt\n",
    "import seaborn as sns"
   ]
  },
  {
   "cell_type": "code",
   "execution_count": 119,
   "id": "2f47759c-2fea-4028-b855-d4a623f9f40e",
   "metadata": {},
   "outputs": [
    {
     "data": {
      "image/png": "[encoded data removed]",
      "text/plain": [
       "<Figure size 640x480 with 1 Axes>"
      ]
     },
     "metadata": {},
     "output_type": "display_data"
    }
   ],
   "source": [
    "sns.histplot(x = \"age\", data = Titanic,bins = [i for i in range(0,81,10)] )\n",
    "plt.show()"
   ]
  },
  {
   "cell_type": "code",
   "execution_count": 121,
   "id": "b9abd6ef-13b8-4663-a0bd-8598c8f20886",
   "metadata": {},
   "outputs": [
    {
     "data": {
      "image/png": "[encoded data removed]",
      "text/plain": [
       "<Figure size 640x480 with 1 Axes>"
      ]
     },
     "metadata": {},
     "output_type": "display_data"
    }
   ],
   "source": [
    "# Draw the line of mean\n",
    "sns.histplot(x = \"age\", data = Titanic,bins = [i for i in range(0,81,10)] )\n",
    "plt.plot([mn for i in range (0,300)],[i for i in range(0,300)],c = \"red\")  # this function is use for making a line of mean \n",
    "plt.show()"
   ]
  },
  {
   "cell_type": "markdown",
   "id": "8148f6c9-33da-4b49-86c4-07cf2c4d314e",
   "metadata": {},
   "source": [
    "## Median"
   ]
  },
  {
   "cell_type": "raw",
   "id": "1a5c9662-e8b3-4613-8743-05d93dc5d693",
   "metadata": {},
   "source": [
    "Median is the middle value from the data set (or exact middel value in the column)"
   ]
  },
  {
   "cell_type": "raw",
   "id": "e60108da-d483-43e9-b715-2aabce38535e",
   "metadata": {},
   "source": [
    "Median find out karne ka sabse pahela step hota hai data ko arrange karna / assending order me data ko convert karna "
   ]
  },
  {
   "cell_type": "raw",
   "id": "11720c67-83e2-4cc0-88c5-3503d027e1a7",
   "metadata": {},
   "source": [
    "Median basically apply on numerical data "
   ]
  },
  {
   "cell_type": "code",
   "execution_count": 122,
   "id": "5e51b96a-0c5c-4179-b569-ca1b4b3d9864",
   "metadata": {},
   "outputs": [
    {
     "data": {
      "text/html": [
       "<div>\n",
       "<style scoped>\n",
       "    .dataframe tbody tr th:only-of-type {\n",
       "        vertical-align: middle;\n",
       "    }\n",
       "\n",
       "    .dataframe tbody tr th {\n",
       "        vertical-align: top;\n",
       "    }\n",
       "\n",
       "    .dataframe thead th {\n",
       "        text-align: right;\n",
       "    }\n",
       "</style>\n",
       "<table border=\"1\" class=\"dataframe\">\n",
       "  <thead>\n",
       "    <tr style=\"text-align: right;\">\n",
       "      <th></th>\n",
       "      <th>survived</th>\n",
       "      <th>pclass</th>\n",
       "      <th>sex</th>\n",
       "      <th>age</th>\n",
       "      <th>sibsp</th>\n",
       "      <th>parch</th>\n",
       "      <th>fare</th>\n",
       "      <th>embarked</th>\n",
       "      <th>class</th>\n",
       "      <th>who</th>\n",
       "      <th>adult_male</th>\n",
       "      <th>deck</th>\n",
       "      <th>embark_town</th>\n",
       "      <th>alive</th>\n",
       "      <th>alone</th>\n",
       "    </tr>\n",
       "  </thead>\n",
       "  <tbody>\n",
       "    <tr>\n",
       "      <th>0</th>\n",
       "      <td>0</td>\n",
       "      <td>3</td>\n",
       "      <td>male</td>\n",
       "      <td>22.0</td>\n",
       "      <td>1</td>\n",
       "      <td>0</td>\n",
       "      <td>7.2500</td>\n",
       "      <td>S</td>\n",
       "      <td>Third</td>\n",
       "      <td>man</td>\n",
       "      <td>True</td>\n",
       "      <td>NaN</td>\n",
       "      <td>Southampton</td>\n",
       "      <td>no</td>\n",
       "      <td>False</td>\n",
       "    </tr>\n",
       "    <tr>\n",
       "      <th>1</th>\n",
       "      <td>1</td>\n",
       "      <td>1</td>\n",
       "      <td>female</td>\n",
       "      <td>38.0</td>\n",
       "      <td>1</td>\n",
       "      <td>0</td>\n",
       "      <td>71.2833</td>\n",
       "      <td>C</td>\n",
       "      <td>First</td>\n",
       "      <td>woman</td>\n",
       "      <td>False</td>\n",
       "      <td>C</td>\n",
       "      <td>Cherbourg</td>\n",
       "      <td>yes</td>\n",
       "      <td>False</td>\n",
       "    </tr>\n",
       "    <tr>\n",
       "      <th>2</th>\n",
       "      <td>1</td>\n",
       "      <td>3</td>\n",
       "      <td>female</td>\n",
       "      <td>26.0</td>\n",
       "      <td>0</td>\n",
       "      <td>0</td>\n",
       "      <td>7.9250</td>\n",
       "      <td>S</td>\n",
       "      <td>Third</td>\n",
       "      <td>woman</td>\n",
       "      <td>False</td>\n",
       "      <td>NaN</td>\n",
       "      <td>Southampton</td>\n",
       "      <td>yes</td>\n",
       "      <td>True</td>\n",
       "    </tr>\n",
       "  </tbody>\n",
       "</table>\n",
       "</div>"
      ],
      "text/plain": [
       "   survived  pclass     sex   age  sibsp  parch     fare embarked  class  \\\n",
       "0         0       3    male  22.0      1      0   7.2500        S  Third   \n",
       "1         1       1  female  38.0      1      0  71.2833        C  First   \n",
       "2         1       3  female  26.0      0      0   7.9250        S  Third   \n",
       "\n",
       "     who  adult_male deck  embark_town alive  alone  \n",
       "0    man        True  NaN  Southampton    no  False  \n",
       "1  woman       False    C    Cherbourg   yes  False  \n",
       "2  woman       False  NaN  Southampton   yes   True  "
      ]
     },
     "execution_count": 122,
     "metadata": {},
     "output_type": "execute_result"
    }
   ],
   "source": [
    "# call the dataset\n",
    "Titanic.head(3)"
   ]
  },
  {
   "cell_type": "code",
   "execution_count": 123,
   "id": "397d920e-23b5-440f-b31d-ba58fab3042d",
   "metadata": {},
   "outputs": [
    {
     "data": {
      "text/plain": [
       "np.float64(14.4542)"
      ]
     },
     "execution_count": 123,
     "metadata": {},
     "output_type": "execute_result"
    }
   ],
   "source": [
    "# find the median of from the age column \n",
    "Titanic[\"fare\"].median()"
   ]
  },
  {
   "cell_type": "code",
   "execution_count": 125,
   "id": "2f3c6534-f63c-4040-9e17-701699d65de9",
   "metadata": {},
   "outputs": [],
   "source": [
    "# fill  null value\n",
    "Titanic[\"fare\"].fillna(Titanic[\"fare\"].mean(),inplace = True)"
   ]
  },
  {
   "cell_type": "code",
   "execution_count": 126,
   "id": "b9e2b171-eb9a-4db2-90dd-de353e15a6d1",
   "metadata": {},
   "outputs": [
    {
     "data": {
      "text/plain": [
       "np.float64(14.4542)"
      ]
     },
     "execution_count": 126,
     "metadata": {},
     "output_type": "execute_result"
    }
   ],
   "source": [
    "# find the median with numpy\n",
    "md = np.median(Titanic[\"fare\"])\n",
    "md"
   ]
  },
  {
   "cell_type": "code",
   "execution_count": 127,
   "id": "5e58ce73-a0f2-43cd-8fc0-5c4bf2f9896c",
   "metadata": {},
   "outputs": [
    {
     "data": {
      "text/plain": [
       "survived         0\n",
       "pclass           0\n",
       "sex              0\n",
       "age            177\n",
       "sibsp            0\n",
       "parch            0\n",
       "fare             0\n",
       "embarked         2\n",
       "class            0\n",
       "who              0\n",
       "adult_male       0\n",
       "deck           688\n",
       "embark_town      2\n",
       "alive            0\n",
       "alone            0\n",
       "dtype: int64"
      ]
     },
     "execution_count": 127,
     "metadata": {},
     "output_type": "execute_result"
    }
   ],
   "source": [
    "# now find the median value from the Fare column \n",
    "# check null \n",
    "Titanic.isnull().sum()"
   ]
  },
  {
   "cell_type": "markdown",
   "id": "9a8959ac-bd16-4348-b21c-60f6426852a1",
   "metadata": {},
   "source": [
    "#### median visualization"
   ]
  },
  {
   "cell_type": "code",
   "execution_count": 130,
   "id": "b13b728c-aa8f-466e-b7b4-2ce734d707bd",
   "metadata": {},
   "outputs": [
    {
     "data": {
      "image/png": "[encoded data removed]",
      "text/plain": [
       "<Figure size 640x480 with 1 Axes>"
      ]
     },
     "metadata": {},
     "output_type": "display_data"
    }
   ],
   "source": [
    "sns.histplot(x = \"fare\", data = Titanic,bins = [i for i in range(0,80,5)] )\n",
    "plt.plot([md for i in range (0,300)],[i for i in range(0,300)],c = \"red\")\n",
    "plt.show()"
   ]
  },
  {
   "cell_type": "markdown",
   "id": "0089ea1d-b57e-4c8f-b4e1-904ea8ac9dff",
   "metadata": {},
   "source": [
    "### Both Visualization mean and medain "
   ]
  },
  {
   "cell_type": "code",
   "execution_count": 131,
   "id": "04276759-7b04-4b6c-b733-9f4bc72d3df3",
   "metadata": {},
   "outputs": [
    {
     "data": {
      "image/png": "[encoded data removed]",
      "text/plain": [
       "<Figure size 640x480 with 1 Axes>"
      ]
     },
     "metadata": {},
     "output_type": "display_data"
    }
   ],
   "source": [
    "sns.histplot(x = \"fare\", data = Titanic,bins = [i for i in range(0,80,5)] )\n",
    "plt.plot([ms for i in range (0,300)],[i for i in range(0,300)],c = \"red\")\n",
    "plt.plot([md for i in range (0,300)],[i for i in range(0,300)],c = \"blue\")\n",
    "plt.show()\n"
   ]
  },
  {
   "cell_type": "markdown",
   "id": "9d753eec-d210-4489-b2f4-785f1f89f2a2",
   "metadata": {},
   "source": [
    "## Mode"
   ]
  },
  {
   "cell_type": "raw",
   "id": "fdeb2078-ffba-49b7-8e30-1cba0ecac2cd",
   "metadata": {},
   "source": [
    "Mode means most frequent data and repeated data in the data set that is mode\n",
    "(Mode basically apply on categorical data)\n",
    "Discrit data pe hum mode nikal sakte hai "
   ]
  },
  {
   "cell_type": "code",
   "execution_count": 139,
   "id": "10778e4e-f9fe-4a0f-bcfc-3baacc7bd1f5",
   "metadata": {},
   "outputs": [
    {
     "data": {
      "text/html": [
       "<div>\n",
       "<style scoped>\n",
       "    .dataframe tbody tr th:only-of-type {\n",
       "        vertical-align: middle;\n",
       "    }\n",
       "\n",
       "    .dataframe tbody tr th {\n",
       "        vertical-align: top;\n",
       "    }\n",
       "\n",
       "    .dataframe thead th {\n",
       "        text-align: right;\n",
       "    }\n",
       "</style>\n",
       "<table border=\"1\" class=\"dataframe\">\n",
       "  <thead>\n",
       "    <tr style=\"text-align: right;\">\n",
       "      <th></th>\n",
       "      <th>survived</th>\n",
       "      <th>pclass</th>\n",
       "      <th>sex</th>\n",
       "      <th>age</th>\n",
       "      <th>sibsp</th>\n",
       "      <th>parch</th>\n",
       "      <th>fare</th>\n",
       "      <th>embarked</th>\n",
       "      <th>class</th>\n",
       "      <th>who</th>\n",
       "      <th>adult_male</th>\n",
       "      <th>deck</th>\n",
       "      <th>embark_town</th>\n",
       "      <th>alive</th>\n",
       "      <th>alone</th>\n",
       "    </tr>\n",
       "  </thead>\n",
       "  <tbody>\n",
       "    <tr>\n",
       "      <th>0</th>\n",
       "      <td>0</td>\n",
       "      <td>3</td>\n",
       "      <td>male</td>\n",
       "      <td>22.0</td>\n",
       "      <td>1</td>\n",
       "      <td>0</td>\n",
       "      <td>7.2500</td>\n",
       "      <td>S</td>\n",
       "      <td>Third</td>\n",
       "      <td>man</td>\n",
       "      <td>True</td>\n",
       "      <td>NaN</td>\n",
       "      <td>Southampton</td>\n",
       "      <td>no</td>\n",
       "      <td>False</td>\n",
       "    </tr>\n",
       "    <tr>\n",
       "      <th>1</th>\n",
       "      <td>1</td>\n",
       "      <td>1</td>\n",
       "      <td>female</td>\n",
       "      <td>38.0</td>\n",
       "      <td>1</td>\n",
       "      <td>0</td>\n",
       "      <td>71.2833</td>\n",
       "      <td>C</td>\n",
       "      <td>First</td>\n",
       "      <td>woman</td>\n",
       "      <td>False</td>\n",
       "      <td>C</td>\n",
       "      <td>Cherbourg</td>\n",
       "      <td>yes</td>\n",
       "      <td>False</td>\n",
       "    </tr>\n",
       "    <tr>\n",
       "      <th>2</th>\n",
       "      <td>1</td>\n",
       "      <td>3</td>\n",
       "      <td>female</td>\n",
       "      <td>26.0</td>\n",
       "      <td>0</td>\n",
       "      <td>0</td>\n",
       "      <td>7.9250</td>\n",
       "      <td>S</td>\n",
       "      <td>Third</td>\n",
       "      <td>woman</td>\n",
       "      <td>False</td>\n",
       "      <td>NaN</td>\n",
       "      <td>Southampton</td>\n",
       "      <td>yes</td>\n",
       "      <td>True</td>\n",
       "    </tr>\n",
       "  </tbody>\n",
       "</table>\n",
       "</div>"
      ],
      "text/plain": [
       "   survived  pclass     sex   age  sibsp  parch     fare embarked  class  \\\n",
       "0         0       3    male  22.0      1      0   7.2500        S  Third   \n",
       "1         1       1  female  38.0      1      0  71.2833        C  First   \n",
       "2         1       3  female  26.0      0      0   7.9250        S  Third   \n",
       "\n",
       "     who  adult_male deck  embark_town alive  alone  \n",
       "0    man        True  NaN  Southampton    no  False  \n",
       "1  woman       False    C    Cherbourg   yes  False  \n",
       "2  woman       False  NaN  Southampton   yes   True  "
      ]
     },
     "execution_count": 139,
     "metadata": {},
     "output_type": "execute_result"
    }
   ],
   "source": [
    "Titanic.head(3)"
   ]
  },
  {
   "cell_type": "code",
   "execution_count": 135,
   "id": "1ef91bf5-dae5-4bc0-9a3a-9fc11c46077b",
   "metadata": {},
   "outputs": [
    {
     "data": {
      "text/plain": [
       "0    3\n",
       "Name: pclass, dtype: int64"
      ]
     },
     "execution_count": 135,
     "metadata": {},
     "output_type": "execute_result"
    }
   ],
   "source": [
    "# Discrete data\n",
    "Titanic[\"pclass\"].mode()   # 0 denoted mode and 3 denoted frequency "
   ]
  },
  {
   "cell_type": "code",
   "execution_count": 144,
   "id": "487b981f-04a4-4955-aa1c-9214cfb3712e",
   "metadata": {},
   "outputs": [
    {
     "data": {
      "text/plain": [
       "np.float64(8.05)"
      ]
     },
     "execution_count": 144,
     "metadata": {},
     "output_type": "execute_result"
    }
   ],
   "source": [
    "# continuous data \n",
    "mo = Titanic[\"fare\"].mode()[0]\n",
    "mo"
   ]
  },
  {
   "cell_type": "markdown",
   "id": "3d0d69a2-1627-483d-bd2f-52d3466b56c4",
   "metadata": {},
   "source": [
    "#### Check the frequency of the mode"
   ]
  },
  {
   "cell_type": "code",
   "execution_count": 150,
   "id": "7fa979e5-7268-48ea-9175-dea1e9d7bc15",
   "metadata": {},
   "outputs": [
    {
     "data": {
      "text/plain": [
       "fare\n",
       "8.0500     43\n",
       "13.0000    42\n",
       "7.8958     38\n",
       "7.7500     34\n",
       "26.0000    31\n",
       "           ..\n",
       "13.8583     1\n",
       "50.4958     1\n",
       "5.0000      1\n",
       "9.8458      1\n",
       "10.5167     1\n",
       "Name: count, Length: 248, dtype: int64"
      ]
     },
     "execution_count": 150,
     "metadata": {},
     "output_type": "execute_result"
    }
   ],
   "source": [
    "Titanic[\"fare\"].value_counts()"
   ]
  },
  {
   "cell_type": "markdown",
   "id": "165daabf-fc1a-4d1b-a1ff-200e5a559f52",
   "metadata": {},
   "source": [
    "### mode visualization"
   ]
  },
  {
   "cell_type": "code",
   "execution_count": 148,
   "id": "6859d16e-4359-4c08-a54f-9734b705d3b3",
   "metadata": {},
   "outputs": [
    {
     "data": {
      "image/png": "[encoded data removed]",
      "text/plain": [
       "<Figure size 640x480 with 1 Axes>"
      ]
     },
     "metadata": {},
     "output_type": "display_data"
    }
   ],
   "source": [
    "sns.histplot(x = \"fare\",data = Titanic,bins = [i for i in range(0,80,5)] )\n",
    "plt.plot([ms for i in range (0,300)],[i for i in range(0,300)],c = \"yellow\")\n",
    "plt.show()"
   ]
  },
  {
   "cell_type": "markdown",
   "id": "7ff738d1-c021-4765-b922-cb244d3f5add",
   "metadata": {},
   "source": [
    "### visualize all three mean , mode , medain "
   ]
  },
  {
   "cell_type": "code",
   "execution_count": 154,
   "id": "a591436e-d956-45a5-a35a-e432d9fd0483",
   "metadata": {},
   "outputs": [
    {
     "data": {
      "image/png": "[encoded data removed]",
      "text/plain": [
       "<Figure size 640x480 with 1 Axes>"
      ]
     },
     "metadata": {},
     "output_type": "display_data"
    }
   ],
   "source": [
    "sns.histplot(x = \"fare\", data = Titanic,bins = [i for i in range(0,80,5)] )\n",
    "plt.plot([ms for i in range (0,300)],[i for i in range(0,300)],c = \"red\",label = \"mean\")\n",
    "plt.plot([md for i in range (0,300)],[i for i in range(0,300)],c = \"blue\",label = \"median\")\n",
    "plt.plot([mo for i in range (0,300)],[i for i in range(0,300)],c = \"yellow\",label = \"mode\")\n",
    "plt.legend()\n",
    "plt.show()\n"
   ]
  },
  {
   "cell_type": "raw",
   "id": "fb8d3251-5650-4c34-b3fb-3afc25bda5d2",
   "metadata": {},
   "source": [
    "These all three function are used in Data Cleaning \n",
    "Mean, Median is basically used for numerical data \n",
    "Mode is used for categorical data "
   ]
  },
  {
   "cell_type": "code",
   "execution_count": null,
   "id": "dd1b910c-e41b-4669-84b0-8d91508c69d7",
   "metadata": {},
   "outputs": [],
   "source": []
  }
 ],
 "metadata": {
  "kernelspec": {
   "display_name": "Python 3 (ipykernel)",
   "language": "python",
   "name": "python3"
  },
  "language_info": {
   "codemirror_mode": {
    "name": "ipython",
    "version": 3
   },
   "file_extension": ".py",
   "mimetype": "text/x-python",
   "name": "python",
   "nbconvert_exporter": "python",
   "pygments_lexer": "ipython3",
   "version": "3.13.1"
  }
 },
 "nbformat": 4,
 "nbformat_minor": 5
}
