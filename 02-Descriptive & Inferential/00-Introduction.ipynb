{
 "cells": [
  {
   "cell_type": "markdown",
   "id": "dbe3cd5f-c1b0-4760-97a8-f763555d7c7e",
   "metadata": {},
   "source": [
    "# Descriptive Statistics"
   ]
  },
  {
   "cell_type": "raw",
   "id": "287bc135-cd29-4793-9cad-27ded3deb7c6",
   "metadata": {},
   "source": [
    "Descriptive Statistics\n",
    "\n",
    "👉 It means summarizing and describing data (what the data is showing).\n",
    "It does not make predictions, only describes.\n",
    "\n",
    "Topics in Descriptive Statistics:\n",
    "\n",
    "(1) Measures of Central Tendency\n",
    "\n",
    "Mean\n",
    "\n",
    "Median\n",
    "\n",
    "Mode\n",
    "\n",
    "(2) Measures of Dispersion (Spread)\n",
    "\n",
    "Range\n",
    "\n",
    "Variance\n",
    "\n",
    "Standard Deviation\n",
    "\n",
    "Interquartile Range (IQR)\n",
    "\n",
    "(3) Data Distribution\n",
    "\n",
    "Skewness\n",
    "\n",
    "Kurtosis\n",
    "\n",
    "(4) Data Representation\n",
    "\n",
    "Tables\n",
    "\n",
    "Graphs (bar chart, pie chart, histogram, box plot, etc.)\n",
    "\n",
    "Percentiles & Quartiles"
   ]
  },
  {
   "cell_type": "code",
   "execution_count": null,
   "id": "e8b35222-ec60-4650-a6ed-16a1702aed0b",
   "metadata": {},
   "outputs": [],
   "source": []
  }
 ],
 "metadata": {
  "kernelspec": {
   "display_name": "Python 3 (ipykernel)",
   "language": "python",
   "name": "python3"
  },
  "language_info": {
   "codemirror_mode": {
    "name": "ipython",
    "version": 3
   },
   "file_extension": ".py",
   "mimetype": "text/x-python",
   "name": "python",
   "nbconvert_exporter": "python",
   "pygments_lexer": "ipython3",
   "version": "3.13.7"
  }
 },
 "nbformat": 4,
 "nbformat_minor": 5
}
