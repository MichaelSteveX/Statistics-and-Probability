{
 "cells": [
  {
   "cell_type": "markdown",
   "id": "2f266f6d-d331-4009-b1bb-4572905979de",
   "metadata": {},
   "source": [
    "# Measure of variability (Range , Mean Absolute Deviation , Variance , Standard Deviation)"
   ]
  },
  {
   "cell_type": "raw",
   "id": "48a8316c-e6df-4572-9f06-33b7520a21e2",
   "metadata": {},
   "source": [
    "Measurement of variability means how much the data value spread out or differ from each other "
   ]
  },
  {
   "cell_type": "raw",
   "id": "f83dc78a-5a1b-4af6-8a26-16f28775e2f5",
   "metadata": {},
   "source": [
    "* Range\n",
    "* Mean absolute deviation\n",
    "* Variance\n",
    "* Standard deviation"
   ]
  },
  {
   "cell_type": "markdown",
   "id": "695094cc-8e43-4380-91c8-946d3529255b",
   "metadata": {},
   "source": [
    "# 01 Range"
   ]
  },
  {
   "cell_type": "code",
   "execution_count": 1,
   "id": "23bd7cb6-cb0f-42bf-99b1-49859ddc7f28",
   "metadata": {},
   "outputs": [],
   "source": [
    "import numpy as np\n",
    "import pandas as pd\n",
    "import matplotlib.pyplot as plt\n",
    "import seaborn as sns\n",
    "import warnings \n",
    "warnings.filterwarnings('ignore')"
   ]
  },
  {
   "cell_type": "code",
   "execution_count": 46,
   "id": "4784e9bb-a940-4fa4-b113-bae3da8828b7",
   "metadata": {},
   "outputs": [
    {
     "data": {
      "text/html": [
       "<div>\n",
       "<style scoped>\n",
       "    .dataframe tbody tr th:only-of-type {\n",
       "        vertical-align: middle;\n",
       "    }\n",
       "\n",
       "    .dataframe tbody tr th {\n",
       "        vertical-align: top;\n",
       "    }\n",
       "\n",
       "    .dataframe thead th {\n",
       "        text-align: right;\n",
       "    }\n",
       "</style>\n",
       "<table border=\"1\" class=\"dataframe\">\n",
       "  <thead>\n",
       "    <tr style=\"text-align: right;\">\n",
       "      <th></th>\n",
       "      <th>survived</th>\n",
       "      <th>pclass</th>\n",
       "      <th>sex</th>\n",
       "      <th>age</th>\n",
       "      <th>sibsp</th>\n",
       "      <th>parch</th>\n",
       "      <th>fare</th>\n",
       "      <th>embarked</th>\n",
       "      <th>class</th>\n",
       "      <th>who</th>\n",
       "      <th>adult_male</th>\n",
       "      <th>deck</th>\n",
       "      <th>embark_town</th>\n",
       "      <th>alive</th>\n",
       "      <th>alone</th>\n",
       "    </tr>\n",
       "  </thead>\n",
       "  <tbody>\n",
       "    <tr>\n",
       "      <th>0</th>\n",
       "      <td>0</td>\n",
       "      <td>3</td>\n",
       "      <td>male</td>\n",
       "      <td>22.0</td>\n",
       "      <td>1</td>\n",
       "      <td>0</td>\n",
       "      <td>7.2500</td>\n",
       "      <td>S</td>\n",
       "      <td>Third</td>\n",
       "      <td>man</td>\n",
       "      <td>True</td>\n",
       "      <td>NaN</td>\n",
       "      <td>Southampton</td>\n",
       "      <td>no</td>\n",
       "      <td>False</td>\n",
       "    </tr>\n",
       "    <tr>\n",
       "      <th>1</th>\n",
       "      <td>1</td>\n",
       "      <td>1</td>\n",
       "      <td>female</td>\n",
       "      <td>38.0</td>\n",
       "      <td>1</td>\n",
       "      <td>0</td>\n",
       "      <td>71.2833</td>\n",
       "      <td>C</td>\n",
       "      <td>First</td>\n",
       "      <td>woman</td>\n",
       "      <td>False</td>\n",
       "      <td>C</td>\n",
       "      <td>Cherbourg</td>\n",
       "      <td>yes</td>\n",
       "      <td>False</td>\n",
       "    </tr>\n",
       "    <tr>\n",
       "      <th>2</th>\n",
       "      <td>1</td>\n",
       "      <td>3</td>\n",
       "      <td>female</td>\n",
       "      <td>26.0</td>\n",
       "      <td>0</td>\n",
       "      <td>0</td>\n",
       "      <td>7.9250</td>\n",
       "      <td>S</td>\n",
       "      <td>Third</td>\n",
       "      <td>woman</td>\n",
       "      <td>False</td>\n",
       "      <td>NaN</td>\n",
       "      <td>Southampton</td>\n",
       "      <td>yes</td>\n",
       "      <td>True</td>\n",
       "    </tr>\n",
       "    <tr>\n",
       "      <th>3</th>\n",
       "      <td>1</td>\n",
       "      <td>1</td>\n",
       "      <td>female</td>\n",
       "      <td>35.0</td>\n",
       "      <td>1</td>\n",
       "      <td>0</td>\n",
       "      <td>53.1000</td>\n",
       "      <td>S</td>\n",
       "      <td>First</td>\n",
       "      <td>woman</td>\n",
       "      <td>False</td>\n",
       "      <td>C</td>\n",
       "      <td>Southampton</td>\n",
       "      <td>yes</td>\n",
       "      <td>False</td>\n",
       "    </tr>\n",
       "    <tr>\n",
       "      <th>4</th>\n",
       "      <td>0</td>\n",
       "      <td>3</td>\n",
       "      <td>male</td>\n",
       "      <td>35.0</td>\n",
       "      <td>0</td>\n",
       "      <td>0</td>\n",
       "      <td>8.0500</td>\n",
       "      <td>S</td>\n",
       "      <td>Third</td>\n",
       "      <td>man</td>\n",
       "      <td>True</td>\n",
       "      <td>NaN</td>\n",
       "      <td>Southampton</td>\n",
       "      <td>no</td>\n",
       "      <td>True</td>\n",
       "    </tr>\n",
       "  </tbody>\n",
       "</table>\n",
       "</div>"
      ],
      "text/plain": [
       "   survived  pclass     sex   age  sibsp  parch     fare embarked  class  \\\n",
       "0         0       3    male  22.0      1      0   7.2500        S  Third   \n",
       "1         1       1  female  38.0      1      0  71.2833        C  First   \n",
       "2         1       3  female  26.0      0      0   7.9250        S  Third   \n",
       "3         1       1  female  35.0      1      0  53.1000        S  First   \n",
       "4         0       3    male  35.0      0      0   8.0500        S  Third   \n",
       "\n",
       "     who  adult_male deck  embark_town alive  alone  \n",
       "0    man        True  NaN  Southampton    no  False  \n",
       "1  woman       False    C    Cherbourg   yes  False  \n",
       "2  woman       False  NaN  Southampton   yes   True  \n",
       "3  woman       False    C  Southampton   yes  False  \n",
       "4    man        True  NaN  Southampton    no   True  "
      ]
     },
     "execution_count": 46,
     "metadata": {},
     "output_type": "execute_result"
    }
   ],
   "source": [
    "Titanic = sns.load_dataset(\"titanic\")\n",
    "Titanic.head(5)"
   ]
  },
  {
   "cell_type": "markdown",
   "id": "ad0baefb-df6c-4c40-8ad9-9ab84292a11d",
   "metadata": {},
   "source": [
    "#### So before finding range first we have to find min and max"
   ]
  },
  {
   "cell_type": "code",
   "execution_count": 47,
   "id": "6ff1d31c-c544-4a89-8c17-d29af8bddbb0",
   "metadata": {},
   "outputs": [
    {
     "name": "stdout",
     "output_type": "stream",
     "text": [
      "The minimum aged person in the ship : 0.42\n"
     ]
    }
   ],
   "source": [
    "# min\n",
    "min_r = Titanic[\"age\"].min()\n",
    "min_r\n",
    "print(f'The minimum aged person in the ship :',min_r)"
   ]
  },
  {
   "cell_type": "code",
   "execution_count": 48,
   "id": "8b5b9d1d-776e-45a7-87ab-24cdcd536e65",
   "metadata": {},
   "outputs": [
    {
     "name": "stdout",
     "output_type": "stream",
     "text": [
      "The maximum ageed person in the ship:  80.0\n"
     ]
    }
   ],
   "source": [
    "# max\n",
    "max_r = Titanic[\"age\"].max()\n",
    "max_r\n",
    "print(f\"The maximum ageed person in the ship: \",max_r)"
   ]
  },
  {
   "cell_type": "markdown",
   "id": "5407c250-1b7c-4bea-9187-672f1a2fcef0",
   "metadata": {},
   "source": [
    "#### Now apply arnge "
   ]
  },
  {
   "cell_type": "code",
   "execution_count": 49,
   "id": "208a5c81-4fea-4f4e-9744-09e0b9200f79",
   "metadata": {},
   "outputs": [
    {
     "data": {
      "text/plain": [
       "np.float64(79.58)"
      ]
     },
     "execution_count": 49,
     "metadata": {},
     "output_type": "execute_result"
    }
   ],
   "source": [
    "Range = max_r-min_r\n",
    "Range"
   ]
  },
  {
   "cell_type": "markdown",
   "id": "ca58e778-5702-4b80-bf7f-93dca6cae18a",
   "metadata": {},
   "source": [
    "# 02 Mean Absolute Deviation"
   ]
  },
  {
   "cell_type": "code",
   "execution_count": 50,
   "id": "751c9d45-0628-4dec-99e8-7e34dbe23931",
   "metadata": {},
   "outputs": [],
   "source": [
    "# mean absolute deviation tab use krte jab huum table ko mean ki value se identify na kar paye \n",
    "# mean absolute deviation is ki hamar data mean value ke kitne paas hai "
   ]
  },
  {
   "cell_type": "code",
   "execution_count": 51,
   "id": "6ce70986-8861-49a4-8a2a-1920ddbf25dd",
   "metadata": {},
   "outputs": [],
   "source": [
    "import numpy as np\n",
    "import pandas as pd\n",
    "import matplotlib.pyplot as plt\n",
    "import seaborn as sns\n",
    "import warnings \n",
    "warnings.filterwarnings('ignore')"
   ]
  },
  {
   "cell_type": "code",
   "execution_count": 2,
   "id": "ac03581d-e66f-4d24-b74c-607bc923ea32",
   "metadata": {},
   "outputs": [],
   "source": [
    "# Lets we have a two tabel and we have to select only one tabel with the help Mean Absolute Deviation "
   ]
  },
  {
   "cell_type": "code",
   "execution_count": 3,
   "id": "05e6d94c-1fa5-423c-bc2d-2a51e8060bc0",
   "metadata": {},
   "outputs": [],
   "source": [
    "sec_a = np.array([75,65,73,68,72,67])\n",
    "sec_b = np.array([90,47,43,96,93,51])\n",
    "no = np.array([1,2,3,4,5,6])"
   ]
  },
  {
   "cell_type": "code",
   "execution_count": 4,
   "id": "af5073e3-3173-49c3-92cb-8e60bb98f280",
   "metadata": {},
   "outputs": [
    {
     "data": {
      "text/plain": [
       "(array([75, 65, 73, 68, 72, 67]), array([90, 47, 43, 96, 93, 51]))"
      ]
     },
     "execution_count": 4,
     "metadata": {},
     "output_type": "execute_result"
    }
   ],
   "source": [
    "sec_a,sec_b"
   ]
  },
  {
   "cell_type": "markdown",
   "id": "629f838e-040d-489b-9cbd-0ac3793dcfc3",
   "metadata": {},
   "source": [
    "#### Finding mean with the help of numpy"
   ]
  },
  {
   "cell_type": "code",
   "execution_count": 5,
   "id": "d7f6f9e1-684a-4c59-a23a-7438d4958498",
   "metadata": {},
   "outputs": [
    {
     "name": "stdout",
     "output_type": "stream",
     "text": [
      "The mean of the first arry is : 70.0\n"
     ]
    }
   ],
   "source": [
    "ar = np.mean(sec_a)\n",
    "print(f\"The mean of the first arry is :\", ar )"
   ]
  },
  {
   "cell_type": "code",
   "execution_count": 6,
   "id": "6ca044a5-2318-4a1e-a1b5-1fbd8c1b275f",
   "metadata": {},
   "outputs": [
    {
     "name": "stdout",
     "output_type": "stream",
     "text": [
      "The mean of the second arry is : 70.0\n"
     ]
    }
   ],
   "source": [
    "ar2 =  np.mean(sec_b)\n",
    "print(f\"The mean of the second arry is :\", ar2 )"
   ]
  },
  {
   "cell_type": "markdown",
   "id": "462eacbf-3f42-41af-9bf2-ee67f8c2d89e",
   "metadata": {},
   "source": [
    "#### Finding mean with the help of Panda"
   ]
  },
  {
   "cell_type": "code",
   "execution_count": 7,
   "id": "1e2e482c-8ee4-4425-aa0e-0ad86d44fede",
   "metadata": {},
   "outputs": [
    {
     "data": {
      "text/plain": [
       "(np.float64(70.0), np.float64(70.0))"
      ]
     },
     "execution_count": 7,
     "metadata": {},
     "output_type": "execute_result"
    }
   ],
   "source": [
    "sec_a.mean(),sec_b.mean()"
   ]
  },
  {
   "cell_type": "markdown",
   "id": "3cc1940f-eb74-4326-9a36-aa590447e925",
   "metadata": {},
   "source": [
    "#### plot the graph and see the difference of both the functions (sec_a) and (sec_b)"
   ]
  },
  {
   "cell_type": "code",
   "execution_count": 8,
   "id": "e64d4b99-84e6-461e-9bf8-09f8b5d6678e",
   "metadata": {},
   "outputs": [
    {
     "data": {
      "image/png": "[encoded data removed]",
      "text/plain": [
       "<Figure size 800x300 with 1 Axes>"
      ]
     },
     "metadata": {},
     "output_type": "display_data"
    }
   ],
   "source": [
    "plt.figure(figsize = (8,3))\n",
    "plt.scatter(sec_a,no,label = \"sec_a\")\n",
    "plt.scatter(sec_b,no,color = \"red\",label = \"sec_b\")\n",
    "plt.plot([ar for i in range(1,7)],no,color =\"blue\",label = \"Mean\")\n",
    "plt.legend()\n",
    "plt.show()"
   ]
  },
  {
   "cell_type": "markdown",
   "id": "f89249e8-1702-478c-9c65-ae4ac9c3c314",
   "metadata": {},
   "source": [
    "### But hum hamesh yek yek graph ko plot nahi kar sakte to uske liye hum (Mean Absolute Deviation) use karenge "
   ]
  },
  {
   "cell_type": "code",
   "execution_count": 12,
   "id": "de03efb7-eda9-4c17-bb39-6f12b2fc8845",
   "metadata": {},
   "outputs": [
    {
     "data": {
      "text/plain": [
       "array([2, 3, 3, 4])"
      ]
     },
     "execution_count": 12,
     "metadata": {},
     "output_type": "execute_result"
    }
   ],
   "source": [
    "# mode function\n",
    "np.abs([-2,3,-3,-4])"
   ]
  },
  {
   "cell_type": "code",
   "execution_count": 16,
   "id": "df0c1b87-b23e-4060-a945-d39a2eb0a557",
   "metadata": {},
   "outputs": [
    {
     "data": {
      "text/plain": [
       "array([ 5., -5.,  3., -2.,  2., -3.])"
      ]
     },
     "execution_count": 16,
     "metadata": {},
     "output_type": "execute_result"
    }
   ],
   "source": [
    "# so find the mean value\n",
    "MAD = (sec_a-ar)\n",
    "MAD"
   ]
  },
  {
   "cell_type": "code",
   "execution_count": 17,
   "id": "880ee592-405e-40a9-9887-5b28d71fc9ac",
   "metadata": {},
   "outputs": [
    {
     "data": {
      "text/plain": [
       "array([5., 5., 3., 2., 2., 3.])"
      ]
     },
     "execution_count": 17,
     "metadata": {},
     "output_type": "execute_result"
    }
   ],
   "source": [
    "# Now absolute value \n",
    "MAD = np.abs(sec_a-ar)\n",
    "MAD"
   ]
  },
  {
   "cell_type": "markdown",
   "id": "fe2c4957-2b99-4cd9-9d4c-384a7ecc9085",
   "metadata": {},
   "source": [
    "## Now apply the formula of Mean Absolute Deviation [M = sigma(X-mean)/N]"
   ]
  },
  {
   "cell_type": "code",
   "execution_count": 21,
   "id": "b37e3ae8-a4ee-43ad-b96d-f548bc5b98fd",
   "metadata": {},
   "outputs": [
    {
     "data": {
      "text/plain": [
       "np.float64(3.3333333333333335)"
      ]
     },
     "execution_count": 21,
     "metadata": {},
     "output_type": "execute_result"
    }
   ],
   "source": [
    "MAD_sec_a = np.sum(np.abs(sec_a-ar))/len(sec_a)\n",
    "MAD_sec_a"
   ]
  },
  {
   "cell_type": "code",
   "execution_count": 23,
   "id": "85e6b7c7-4e76-46f8-9d65-53dc7b214910",
   "metadata": {},
   "outputs": [
    {
     "data": {
      "text/plain": [
       "np.float64(23.0)"
      ]
     },
     "execution_count": 23,
     "metadata": {},
     "output_type": "execute_result"
    }
   ],
   "source": [
    "# Now find mean absolute deviation of (sec_b)\n",
    "MAD_sec_b = np.sum(np.abs(sec_b-ar2))/len(sec_b)\n",
    "MAD_sec_b"
   ]
  },
  {
   "cell_type": "raw",
   "id": "be101384-27fa-47b1-aaae-57ba3adf8c93",
   "metadata": {},
   "source": [
    "So basically mean absolute deviation is used when we have to different differnt data set and and there mean value is same and we are unable to select the tabel so we apply the (mean standard deviation) and whose tabel value is less sepread we select that tabel "
   ]
  },
  {
   "cell_type": "markdown",
   "id": "f1787b46-9b66-4295-8384-40d3933bff18",
   "metadata": {},
   "source": [
    "# 03  Standard Deviation "
   ]
  },
  {
   "cell_type": "raw",
   "id": "0e16ec58-5986-4345-b7d0-ba02a17bb271",
   "metadata": {},
   "source": [
    "Standard deviation hum tab use krte hai jab jab dono data ka mean as well as mean absolute deviation same ho jata hai to hum standard\n",
    "deviation ka use karte hai "
   ]
  },
  {
   "cell_type": "code",
   "execution_count": 25,
   "id": "327ae64b-d368-4403-8335-b36cc801f72b",
   "metadata": {},
   "outputs": [],
   "source": [
    "import numpy as np\n",
    "import pandas as pd\n",
    "import matplotlib.pyplot as plt\n",
    "import seaborn as sns\n",
    "import warnings \n",
    "warnings.filterwarnings('ignore')"
   ]
  },
  {
   "cell_type": "code",
   "execution_count": 27,
   "id": "25139671-582a-4d5f-bbe8-05858bea5efc",
   "metadata": {},
   "outputs": [],
   "source": [
    "# We have data two data set "
   ]
  },
  {
   "cell_type": "code",
   "execution_count": 26,
   "id": "d3c30156-1758-4ab6-8e6a-116ca2e6ee56",
   "metadata": {},
   "outputs": [],
   "source": [
    "sec_a = np.array([75,65,73,68,72,67])\n",
    "sec_b = np.array([90,47,43,96,93,51])\n",
    "no = np.array([1,2,3,4,5,6])"
   ]
  },
  {
   "cell_type": "markdown",
   "id": "e3c8e4d7-b8a0-4814-b0d2-5fb680343200",
   "metadata": {},
   "source": [
    "### Apply Standard Deviation "
   ]
  },
  {
   "cell_type": "code",
   "execution_count": 30,
   "id": "bbe0484c-2d94-4d46-adab-0f0d6189985b",
   "metadata": {},
   "outputs": [
    {
     "data": {
      "text/plain": [
       "(np.float64(3.559026084010437), np.float64(23.18045153428495))"
      ]
     },
     "execution_count": 30,
     "metadata": {},
     "output_type": "execute_result"
    }
   ],
   "source": [
    "std = np.std(sec_a),np.std(sec_b)\n",
    "std"
   ]
  },
  {
   "cell_type": "markdown",
   "id": "9f3a8c65-d3ca-41ec-ace7-a6a0046838f8",
   "metadata": {},
   "source": [
    "### Working on real world Data "
   ]
  },
  {
   "cell_type": "code",
   "execution_count": 36,
   "id": "6f5cc0d5-46b1-4f79-8b6b-57cf30ca75e1",
   "metadata": {},
   "outputs": [
    {
     "data": {
      "text/html": [
       "<div>\n",
       "<style scoped>\n",
       "    .dataframe tbody tr th:only-of-type {\n",
       "        vertical-align: middle;\n",
       "    }\n",
       "\n",
       "    .dataframe tbody tr th {\n",
       "        vertical-align: top;\n",
       "    }\n",
       "\n",
       "    .dataframe thead th {\n",
       "        text-align: right;\n",
       "    }\n",
       "</style>\n",
       "<table border=\"1\" class=\"dataframe\">\n",
       "  <thead>\n",
       "    <tr style=\"text-align: right;\">\n",
       "      <th></th>\n",
       "      <th>PassengerId</th>\n",
       "      <th>Survived</th>\n",
       "      <th>Pclass</th>\n",
       "      <th>Name</th>\n",
       "      <th>Sex</th>\n",
       "      <th>Age</th>\n",
       "      <th>SibSp</th>\n",
       "      <th>Parch</th>\n",
       "      <th>Ticket</th>\n",
       "      <th>Fare</th>\n",
       "      <th>Cabin</th>\n",
       "      <th>Embarked</th>\n",
       "    </tr>\n",
       "  </thead>\n",
       "  <tbody>\n",
       "    <tr>\n",
       "      <th>0</th>\n",
       "      <td>892</td>\n",
       "      <td>0</td>\n",
       "      <td>3</td>\n",
       "      <td>Kelly, Mr. James</td>\n",
       "      <td>male</td>\n",
       "      <td>34.5</td>\n",
       "      <td>0</td>\n",
       "      <td>0</td>\n",
       "      <td>330911</td>\n",
       "      <td>7.8292</td>\n",
       "      <td>NaN</td>\n",
       "      <td>Q</td>\n",
       "    </tr>\n",
       "    <tr>\n",
       "      <th>1</th>\n",
       "      <td>893</td>\n",
       "      <td>1</td>\n",
       "      <td>3</td>\n",
       "      <td>Wilkes, Mrs. James (Ellen Needs)</td>\n",
       "      <td>female</td>\n",
       "      <td>47.0</td>\n",
       "      <td>1</td>\n",
       "      <td>0</td>\n",
       "      <td>363272</td>\n",
       "      <td>7.0000</td>\n",
       "      <td>NaN</td>\n",
       "      <td>S</td>\n",
       "    </tr>\n",
       "    <tr>\n",
       "      <th>2</th>\n",
       "      <td>894</td>\n",
       "      <td>0</td>\n",
       "      <td>2</td>\n",
       "      <td>Myles, Mr. Thomas Francis</td>\n",
       "      <td>male</td>\n",
       "      <td>62.0</td>\n",
       "      <td>0</td>\n",
       "      <td>0</td>\n",
       "      <td>240276</td>\n",
       "      <td>9.6875</td>\n",
       "      <td>NaN</td>\n",
       "      <td>Q</td>\n",
       "    </tr>\n",
       "  </tbody>\n",
       "</table>\n",
       "</div>"
      ],
      "text/plain": [
       "   PassengerId  Survived  Pclass                              Name     Sex  \\\n",
       "0          892         0       3                  Kelly, Mr. James    male   \n",
       "1          893         1       3  Wilkes, Mrs. James (Ellen Needs)  female   \n",
       "2          894         0       2         Myles, Mr. Thomas Francis    male   \n",
       "\n",
       "    Age  SibSp  Parch  Ticket    Fare Cabin Embarked  \n",
       "0  34.5      0      0  330911  7.8292   NaN        Q  \n",
       "1  47.0      1      0  363272  7.0000   NaN        S  \n",
       "2  62.0      0      0  240276  9.6875   NaN        Q  "
      ]
     },
     "execution_count": 36,
     "metadata": {},
     "output_type": "execute_result"
    }
   ],
   "source": [
    "dataset = pd.read_csv(\"C:\\\\Users\\\\Admin\\\\Downloads\\\\tested.csv\")\n",
    "dataset.head(3)"
   ]
  },
  {
   "cell_type": "code",
   "execution_count": 44,
   "id": "c2575dc9-c84c-4085-b4f6-e4a7bd038369",
   "metadata": {},
   "outputs": [
    {
     "data": {
      "text/plain": [
       "np.float64(14.181209235624422)"
      ]
     },
     "execution_count": 44,
     "metadata": {},
     "output_type": "execute_result"
    }
   ],
   "source": [
    "# if humko kisi yek column ka spreadness check karna ho ki kitna data spread hai (age)\n",
    "std = dataset[\"Age\"].std()\n",
    "std\n",
    "\n",
    "# Ye data bahot jada spread hai "
   ]
  },
  {
   "cell_type": "code",
   "execution_count": 45,
   "id": "5d9aeee9-2494-4509-b00e-f21b5b2e13a3",
   "metadata": {},
   "outputs": [
    {
     "data": {
      "image/png": "[encoded data removed]",
      "text/plain": [
       "<Figure size 640x480 with 1 Axes>"
      ]
     },
     "metadata": {},
     "output_type": "display_data"
    }
   ],
   "source": [
    "# Now plot the graph to see the spreadness \n",
    "sns.histplot(x ='Age',data = dataset)\n",
    "plt.show()"
   ]
  },
  {
   "cell_type": "markdown",
   "id": "de859516-8fd6-467a-89b7-10d063019392",
   "metadata": {},
   "source": [
    "# Variance"
   ]
  },
  {
   "cell_type": "raw",
   "id": "fbdb76e3-9833-4381-8147-ee85cf159b6e",
   "metadata": {},
   "source": [
    "Variance ka use bhi hum same steps karne ke liye use karte hai just like standard deviation \n",
    "Hum dono mese koi bhi function use kar sakte hai to check the spreadness of the data (standard deviation) OR (Variance)"
   ]
  },
  {
   "cell_type": "markdown",
   "id": "f79e6f3d-026c-4dff-9040-602073ce9d27",
   "metadata": {},
   "source": [
    "### Apply variance"
   ]
  },
  {
   "cell_type": "code",
   "execution_count": 32,
   "id": "0c17e9fb-a581-4104-b7a5-5ee62d28cc48",
   "metadata": {},
   "outputs": [
    {
     "data": {
      "text/plain": [
       "(np.float64(12.666666666666666), np.float64(537.3333333333334))"
      ]
     },
     "execution_count": 32,
     "metadata": {},
     "output_type": "execute_result"
    }
   ],
   "source": [
    "var = np.var(sec_a),np.var(sec_b)\n",
    "var"
   ]
  },
  {
   "cell_type": "code",
   "execution_count": null,
   "id": "639e7cf7-7d56-412e-9394-83959a62a1e6",
   "metadata": {},
   "outputs": [],
   "source": []
  }
 ],
 "metadata": {
  "kernelspec": {
   "display_name": "Python 3 (ipykernel)",
   "language": "python",
   "name": "python3"
  },
  "language_info": {
   "codemirror_mode": {
    "name": "ipython",
    "version": 3
   },
   "file_extension": ".py",
   "mimetype": "text/x-python",
   "name": "python",
   "nbconvert_exporter": "python",
   "pygments_lexer": "ipython3",
   "version": "3.13.1"
  }
 },
 "nbformat": 4,
 "nbformat_minor": 5
}
